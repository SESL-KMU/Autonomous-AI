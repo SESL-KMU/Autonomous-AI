{
  "cells": [
    {
      "cell_type": "markdown",
      "metadata": {
        "id": "ljyfmbrDZPpY"
      },
      "source": [
        "#<font color=blue>**SSD 객체 인식 실습**</font>\n",
        "각 셀을 순서대로 shift + ENTER로 실행"
      ]
    },
    {
      "cell_type": "markdown",
      "metadata": {
        "id": "qd1U0g0na3xX"
      },
      "source": [
        "##<font color=green>**SSD를 적용하기위한 적절한 라이브러리 설치 진행**\n",
        "####<font color=red>런타임 초기화시 재설치 진행</font>"
      ]
    },
    {
      "cell_type": "code",
      "execution_count": null,
      "metadata": {
        "id": "NUWAxkj0a1kv",
        "vscode": {
          "languageId": "python"
        }
      },
      "outputs": [],
      "source": [
        "!pip install tensorboard==1.15.0 tensorflow==1.15.0 tensorflow-estimator==1.15.1 tensorflow-gpu==1.15.2 tensorflow-gpu-estimator==2.1.0 Keras==2.2.5 Keras-Applications==1.0.8 Keras-Preprocessing==1.1.0"
      ]
    },
    {
      "cell_type": "markdown",
      "metadata": {
        "id": "vRWGOg--dBuA"
      },
      "source": [
        "##<font color=green>**git의 SSD 설치**"
      ]
    },
    {
      "cell_type": "code",
      "execution_count": null,
      "metadata": {
        "id": "_nCrKIyurWRe",
        "vscode": {
          "languageId": "python"
        }
      },
      "outputs": [],
      "source": [
        "!git clone https://github.com/balancap/SSD-Tensorflow.git"
      ]
    },
    {
      "cell_type": "markdown",
      "metadata": {
        "id": "ultot3PIq26_"
      },
      "source": [
        "##<font color=green>**vgg 모델 설치**</font>"
      ]
    },
    {
      "cell_type": "code",
      "execution_count": null,
      "metadata": {
        "id": "WmoSV42stM2h",
        "vscode": {
          "languageId": "python"
        }
      },
      "outputs": [],
      "source": [
        "%cd SSD-Tensorflow/checkpoints/\n",
        "!unzip ssd_300_vgg.ckpt.zip"
      ]
    },
    {
      "cell_type": "markdown",
      "metadata": {
        "id": "VZlQq-Q4shrH"
      },
      "source": [
        "##<font color=green>**실습 폴더 경로로 이동**</font>"
      ]
    },
    {
      "cell_type": "code",
      "execution_count": null,
      "metadata": {
        "id": "oNTPD7mruTLZ",
        "vscode": {
          "languageId": "python"
        }
      },
      "outputs": [],
      "source": [
        "cd ../notebooks/"
      ]
    },
    {
      "cell_type": "markdown",
      "metadata": {
        "id": "OVFAavV6unzh"
      },
      "source": [
        "##<font color=green>**SSD 실습 코드**</font>"
      ]
    },
    {
      "cell_type": "markdown",
      "metadata": {
        "id": "B0uGHeEzs33e"
      },
      "source": [
        "####<font color=red>라이브러리 설정</font>"
      ]
    },
    {
      "cell_type": "code",
      "execution_count": null,
      "metadata": {
        "id": "-Jq2ZFPVuiPF",
        "vscode": {
          "languageId": "python"
        }
      },
      "outputs": [],
      "source": [
        "import os\n",
        "import math\n",
        "import random\n",
        "\n",
        "import numpy as np\n",
        "import tensorflow as tf\n",
        "import cv2\n",
        "\n",
        "slim = tf.contrib.slim\n",
        "\n",
        "%matplotlib inline\n",
        "import matplotlib.pyplot as plt\n",
        "import matplotlib.image as mpimg\n",
        "\n",
        "import sys\n",
        "sys.path.append('../')\n",
        "\n",
        "from nets import ssd_vgg_300, ssd_common, np_methods\n",
        "from preprocessing import ssd_vgg_preprocessing\n",
        "from notebooks import visualization"
      ]
    },
    {
      "cell_type": "markdown",
      "metadata": {
        "id": "viRaS_-muu3U"
      },
      "source": [
        "####<font color=red>학습된 모델 및 설정 적용</font>"
      ]
    },
    {
      "cell_type": "code",
      "execution_count": null,
      "metadata": {
        "colab": {
          "base_uri": "https://localhost:8080/"
        },
        "id": "23NcvYl6vAHk",
        "outputId": "5dd7b694-4d8b-49d3-8661-10a123241ec2",
        "vscode": {
          "languageId": "python"
        }
      },
      "outputs": [
        {
          "name": "stdout",
          "output_type": "stream",
          "text": [
            "WARNING:tensorflow:From ../preprocessing/ssd_vgg_preprocessing.py:318: to_float (from tensorflow.python.ops.math_ops) is deprecated and will be removed in a future version.\n",
            "Instructions for updating:\n",
            "Use `tf.cast` instead.\n",
            "WARNING:tensorflow:From ../preprocessing/tf_image.py:275: The name tf.image.resize_images is deprecated. Please use tf.image.resize instead.\n",
            "\n",
            "WARNING:tensorflow:From ../nets/ssd_vgg_300.py:450: The name tf.variable_scope is deprecated. Please use tf.compat.v1.variable_scope instead.\n",
            "\n",
            "WARNING:tensorflow:From /usr/local/lib/python3.6/dist-packages/tensorflow_core/contrib/layers/python/layers/layers.py:1057: Layer.apply (from tensorflow.python.keras.engine.base_layer) is deprecated and will be removed in a future version.\n",
            "Instructions for updating:\n",
            "Please use `layer.__call__` method instead.\n",
            "WARNING:tensorflow:From ../nets/ssd_vgg_300.py:476: dropout (from tensorflow.python.layers.core) is deprecated and will be removed in a future version.\n",
            "Instructions for updating:\n",
            "Use keras.layers.dropout instead.\n",
            "INFO:tensorflow:Restoring parameters from ../checkpoints/ssd_300_vgg.ckpt\n"
          ]
        }
      ],
      "source": [
        "gpu_options = tf.GPUOptions(allow_growth=True)\n",
        "config = tf.ConfigProto(log_device_placement=False, gpu_options=gpu_options)\n",
        "isess = tf.InteractiveSession(config=config)\n",
        "# Input placeholder.\n",
        "net_shape = (300, 300)\n",
        "data_format = 'NHWC'\n",
        "img_input = tf.placeholder(tf.uint8, shape=(None, None, 3))\n",
        "# Evaluation pre-processing: resize to SSD net shape.\n",
        "image_pre, labels_pre, bboxes_pre, bbox_img = ssd_vgg_preprocessing.preprocess_for_eval(\n",
        "    img_input, None, None, net_shape, data_format, resize=ssd_vgg_preprocessing.Resize.WARP_RESIZE)\n",
        "image_4d = tf.expand_dims(image_pre, 0)\n",
        "\n",
        "# Define the SSD model.\n",
        "reuse = True if 'ssd_net' in locals() else None\n",
        "ssd_net = ssd_vgg_300.SSDNet()\n",
        "with slim.arg_scope(ssd_net.arg_scope(data_format=data_format)):\n",
        "    predictions, localisations, _, _ = ssd_net.net(image_4d, is_training=False, reuse=reuse)\n",
        "\n",
        "# Restore SSD model.\n",
        "ckpt_filename = '../checkpoints/ssd_300_vgg.ckpt'\n",
        "# ckpt_filename = '../checkpoints/VGG_VOC0712_SSD_300x300_ft_iter_120000.ckpt'\n",
        "isess.run(tf.global_variables_initializer())\n",
        "saver = tf.train.Saver()\n",
        "saver.restore(isess, ckpt_filename)\n",
        "\n",
        "# SSD default anchor boxes.\n",
        "ssd_anchors = ssd_net.anchors(net_shape)"
      ]
    },
    {
      "cell_type": "markdown",
      "metadata": {
        "id": "GJHK-KPGu54h"
      },
      "source": [
        "####<font color=red>이미지 SSD 적용 함수 구성</font>"
      ]
    },
    {
      "cell_type": "code",
      "execution_count": null,
      "metadata": {
        "id": "5raFC-J5vDbL",
        "vscode": {
          "languageId": "python"
        }
      },
      "outputs": [],
      "source": [
        "# Main image processing routine.\n",
        "def process_image(img, select_threshold=0.5, nms_threshold=.45, net_shape=(300, 300)):\n",
        "    # Run SSD network.\n",
        "    rimg, rpredictions, rlocalisations, rbbox_img = isess.run([image_4d, predictions, localisations, bbox_img],\n",
        "                                                              feed_dict={img_input: img})\n",
        "    \n",
        "    # Get classes and bboxes from the net outputs.\n",
        "    rclasses, rscores, rbboxes = np_methods.ssd_bboxes_select(\n",
        "            rpredictions, rlocalisations, ssd_anchors,\n",
        "            select_threshold=select_threshold, img_shape=net_shape, num_classes=21, decode=True)\n",
        "    \n",
        "    rbboxes = np_methods.bboxes_clip(rbbox_img, rbboxes)\n",
        "    rclasses, rscores, rbboxes = np_methods.bboxes_sort(rclasses, rscores, rbboxes, top_k=400)\n",
        "    rclasses, rscores, rbboxes = np_methods.bboxes_nms(rclasses, rscores, rbboxes, nms_threshold=nms_threshold)\n",
        "    # Resize bboxes to original image shape. Note: useless for Resize.WARP!\n",
        "    rbboxes = np_methods.bboxes_resize(rbbox_img, rbboxes)\n",
        "    return rclasses, rscores, rbboxes"
      ]
    },
    {
      "cell_type": "markdown",
      "metadata": {
        "id": "7sTR2p39vD_u"
      },
      "source": [
        "####<font color=red>이미지 데이터에 SSD 적용 실습 진행</font>\n",
        "경로를 지정한 이미지에 SSD 적용\n",
        "img = mpimg.imread('적용하고자하는이미지 경로')\n",
        "\n"
      ]
    },
    {
      "cell_type": "code",
      "execution_count": null,
      "metadata": {
        "id": "TQM31vqDvHmO",
        "vscode": {
          "languageId": "python"
        }
      },
      "outputs": [],
      "source": [
        "# Test on some demo image and visualize output.\n",
        "\n",
        "img = mpimg.imread('/content/SSD-Tensorflow/demo/dog.jpg')\n",
        "rclasses, rscores, rbboxes =  process_image(img)\n",
        "\n",
        "# visualization.bboxes_draw_on_img(img, rclasses, rscores, rbboxes, visualization.colors_plasma)\n",
        "visualization.plt_bboxes(img, rclasses, rscores, rbboxes)"
      ]
    },
    {
      "cell_type": "markdown",
      "metadata": {
        "id": "6RUX8Opd792l"
      },
      "source": [
        "##<font color=green>**데이터 업로드 진행**"
      ]
    },
    {
      "cell_type": "markdown",
      "metadata": {
        "id": "qKCEr-KyXY3-"
      },
      "source": [
        "####<font color=red>KITTI_data.mp4 다운로드</font>"
      ]
    },
    {
      "cell_type": "code",
      "execution_count": null,
      "metadata": {
        "id": "Lwl1MW78qsnK",
        "vscode": {
          "languageId": "python"
        }
      },
      "outputs": [],
      "source": [
        "!gdown --id 1V68xfo5-YrpHgh0IPuAPWD21rM6U17hW --output KITTI_data.mp4"
      ]
    },
    {
      "cell_type": "markdown",
      "metadata": {
        "id": "LxqerILKx2kn"
      },
      "source": [
        "##<font color=green>**SSD 영상 실습**</font>"
      ]
    },
    {
      "cell_type": "markdown",
      "metadata": {
        "id": "hkoOvZ1Uz04I"
      },
      "source": [
        "####<font color=red>라이브러리 설정</font>"
      ]
    },
    {
      "cell_type": "code",
      "execution_count": null,
      "metadata": {
        "id": "elMCrU3SyL6u",
        "vscode": {
          "languageId": "python"
        }
      },
      "outputs": [],
      "source": [
        "import os\n",
        "import math\n",
        "import random\n",
        "\n",
        "import numpy as np\n",
        "import tensorflow as tf\n",
        "import cv2\n",
        "import time\n",
        "slim = tf.contrib.slim\n",
        "import matplotlib.pyplot as plt\n",
        "import matplotlib.image as mpimg\n",
        "import sys\n",
        "sys.path.append('../')\n",
        "from nets import ssd_vgg_300, ssd_common, np_methods\n",
        "from preprocessing import ssd_vgg_preprocessing\n",
        "from notebooks import visualization"
      ]
    },
    {
      "cell_type": "markdown",
      "metadata": {
        "id": "hRfyHBR5EVIy"
      },
      "source": [
        "####<font color = red>적용하고자하는 영상 데이터 지정</font>\n",
        "\n",
        "capture = cv2.VideoCapture('적용하고자하는 비디오데이터')"
      ]
    },
    {
      "cell_type": "code",
      "execution_count": null,
      "metadata": {
        "id": "2W7dWdSyEihe",
        "vscode": {
          "languageId": "python"
        }
      },
      "outputs": [],
      "source": [
        "capture = cv2.VideoCapture('KITTI_data.mp4')\n",
        "size = (\n",
        "    int(capture.get(cv2.CAP_PROP_FRAME_WIDTH)),\n",
        "    int(capture.get(cv2.CAP_PROP_FRAME_HEIGHT))\n",
        ")"
      ]
    },
    {
      "cell_type": "markdown",
      "metadata": {
        "id": "SeJYgLCv0htx"
      },
      "source": [
        "####<font color=red>학습 모델 및 설정 적용"
      ]
    },
    {
      "cell_type": "code",
      "execution_count": null,
      "metadata": {
        "id": "I5GJQMiuyM6F",
        "vscode": {
          "languageId": "python"
        }
      },
      "outputs": [],
      "source": [
        "gpu_options = tf.GPUOptions(allow_growth=False)\n",
        "config = tf.ConfigProto(log_device_placement=False, gpu_options=gpu_options)\n",
        "isess = tf.InteractiveSession(config=config)\n",
        "net_shape = (\n",
        "    int(capture.get(cv2.CAP_PROP_FRAME_HEIGHT)),\n",
        "    int(capture.get(cv2.CAP_PROP_FRAME_WIDTH))\n",
        ")\n",
        "data_format = 'NHWC'\n",
        "img_input = tf.placeholder(tf.uint8, shape=(None, None, 3))\n",
        "image_pre, labels_pre, bboxes_pre, bbox_img = ssd_vgg_preprocessing.preprocess_for_eval(img_input, None, None, net_shape, data_format, resize=ssd_vgg_preprocessing.Resize.WARP_RESIZE)\n",
        "image_4d = tf.expand_dims(image_pre, 0)\n",
        "reuse = True if 'ssd_net' in locals() else None\n",
        "ssd_net = ssd_vgg_300.SSDNet()\n",
        "with slim.arg_scope(ssd_net.arg_scope(data_format=data_format)):\n",
        "    predictions, localisations, _, _ = ssd_net.net(image_4d, is_training=False, reuse=reuse)\n",
        "ckpt_filename = '../checkpoints/ssd_300_vgg.ckpt'\n",
        "isess.run(tf.global_variables_initializer())\n",
        "saver = tf.train.Saver()\n",
        "saver.restore(isess, ckpt_filename)\n",
        "ssd_anchors = ssd_net.anchors(net_shape)"
      ]
    },
    {
      "cell_type": "markdown",
      "metadata": {
        "id": "3yAHMPVd0rEz"
      },
      "source": [
        "####<font color=red>이미지 SSD 적용 함수 구성</font>\n",
        "이미지에 SSD 적용 시의 클래스, 정확도, 경계박스 정보 도출"
      ]
    },
    {
      "cell_type": "code",
      "execution_count": null,
      "metadata": {
        "id": "Q4CSZihvybG9",
        "vscode": {
          "languageId": "python"
        }
      },
      "outputs": [],
      "source": [
        "def process_image(img, select_threshold=0.45, nms_threshold=.45, net_shape=net_shape):\n",
        "    rimg, rpredictions, rlocalisations, rbbox_img = isess.run([image_4d, predictions, localisations, bbox_img], feed_dict={img_input: img})\n",
        "    rclasses, rscores, rbboxes = np_methods.ssd_bboxes_select( rpredictions, rlocalisations, ssd_anchors, select_threshold=select_threshold, img_shape=net_shape, num_classes=21, decode=True)\n",
        "    rbboxes = np_methods.bboxes_clip(rbbox_img, rbboxes)\n",
        "    rclasses, rscores, rbboxes = np_methods.bboxes_sort(rclasses, rscores, rbboxes, top_k=400)\n",
        "    rclasses, rscores, rbboxes = np_methods.bboxes_nms(rclasses, rscores, rbboxes, nms_threshold=nms_threshold)\n",
        "    rbboxes = np_methods.bboxes_resize(rbbox_img, rbboxes)\n",
        "    return rclasses, rscores, rbboxes"
      ]
    },
    {
      "cell_type": "markdown",
      "metadata": {
        "id": "InSCRKdv08cL"
      },
      "source": [
        "####<font color=red>영상 데이터에 SSD 적용 함수 구성</font>"
      ]
    },
    {
      "cell_type": "code",
      "execution_count": null,
      "metadata": {
        "id": "mKtNPMP6y2X6",
        "vscode": {
          "languageId": "python"
        }
      },
      "outputs": [],
      "source": [
        "def video_bboxes(img, classes, scores, bboxes, figsize=(10,10), linewidth=1.5):\n",
        "    \"\"\"Visualize bounding boxes. Largely inspired by SSD-MXNET!\n",
        "    \"\"\"\n",
        "    cnames=['background','aeroplane','bicycle','bird','boat','bottle','bus','car','cat','chair','cow','diningtable','dog','horse','motorbike','person','pottedplant','sheep','sofa','train','tvmonitor']\n",
        "    height = img.shape[0]\n",
        "    width = img.shape[1]\n",
        "    colors = dict()\n",
        "    \n",
        "    for i in range(classes.shape[0]):\n",
        "        cls_id = int(classes[i])\n",
        "        if cls_id >= 0:\n",
        "            score = scores[i]\n",
        "            if cls_id not in colors:\n",
        "                colors[cls_id] = (random.random(), random.random(), random.random())\n",
        "            ymin = int(bboxes[i, 0] * height)\n",
        "            xmin = int(bboxes[i, 1] * width)\n",
        "            ymax = int(bboxes[i, 2] * height)\n",
        "            xmax = int(bboxes[i, 3] * width)\n",
        "            tl=(xmin,ymin)\n",
        "            br=(xmax,ymax)\n",
        "            img=cv2.rectangle(img,tl,br,colors[cls_id],2)\n",
        "            class_name=cnames[cls_id]\n",
        "       \n",
        "            if cls_id<len(cnames):\n",
        "                img=cv2.putText(img,'%s'%cnames[cls_id]+str(score),tl,cv2.FONT_HERSHEY_COMPLEX,1,(255,255,255),2)\n",
        "            #cv2_imshow(img)\n",
        "    return img"
      ]
    },
    {
      "cell_type": "markdown",
      "metadata": {
        "id": "LYLB0dfo66_l"
      },
      "source": [
        "####<font color=red>업로드된 영상데이터에 SSD 객체 인식 적용</font>\n",
        "\n",
        "적용된 영상은 video_masked.avi로 저장"
      ]
    },
    {
      "cell_type": "code",
      "execution_count": null,
      "metadata": {
        "id": "lulw0CmpyeNm",
        "vscode": {
          "languageId": "python"
        }
      },
      "outputs": [],
      "source": [
        "codec = cv2.VideoWriter_fourcc(*'DIVX')\n",
        "output = cv2.VideoWriter('video_masked.avi', codec, 30.0, size)\n",
        "\n",
        "while (capture.isOpened()):\n",
        "    ret, img = capture.read() # ret is true or false (if video is playing then its true)\n",
        "    \n",
        "    if ret:\n",
        "      rclasses, rscores, rbboxes = process_image(img)\n",
        "      frame = video_bboxes(img, rclasses, rscores, rbboxes)\n",
        "      output.write(frame)\n",
        "    else:\n",
        "      break\n",
        "\n",
        "capture.release()\n",
        "output.release()\n",
        "cv2.destroyAllWindows()"
      ]
    },
    {
      "cell_type": "markdown",
      "metadata": {
        "id": "I91egmTRVadS"
      },
      "source": [
        "####<font color=red>Mask R-CNN 적용된 KITTI_data 다운로드</font>"
      ]
    },
    {
      "cell_type": "code",
      "execution_count": null,
      "metadata": {
        "id": "9jlhFbvfO7vo",
        "vscode": {
          "languageId": "python"
        }
      },
      "outputs": [],
      "source": [
        "from google.colab import files\n",
        "files.download('video_masked.avi')"
      ]
    }
  ],
  "metadata": {
    "accelerator": "GPU",
    "colab": {
      "collapsed_sections": [],
      "name": "SSD(HOT).ipynb",
      "provenance": [],
      "toc_visible": true
    },
    "kernelspec": {
      "display_name": "Python 3",
      "name": "python3"
    }
  },
  "nbformat": 4,
  "nbformat_minor": 0
}
