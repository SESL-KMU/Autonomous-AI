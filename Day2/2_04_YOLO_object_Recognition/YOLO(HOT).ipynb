{
  "cells": [
    {
      "cell_type": "markdown",
      "metadata": {
        "id": "zEL1RCn4GOQb"
      },
      "source": [
        "#<font color=blue>**YOLO 객체 인식 실습**</font>\n",
        "각 셀을 순서대로 shift + ENTER로 실행"
      ]
    },
    {
      "cell_type": "markdown",
      "metadata": {
        "id": "Eo82GCPkGgjN"
      },
      "source": [
        "##<font color=green>**git의 Darknet_YOLO 설치**</font>"
      ]
    },
    {
      "cell_type": "code",
      "execution_count": null,
      "metadata": {
        "id": "d3XvFa_1CSUm",
        "vscode": {
          "languageId": "python"
        }
      },
      "outputs": [],
      "source": [
        "!git clone https://github.com/AlexeyAB/darknet"
      ]
    },
    {
      "cell_type": "markdown",
      "metadata": {
        "id": "QZFN7OrsGxn2"
      },
      "source": [
        "##<font color=green>**OPENCV, GPU 사용 여부 설정**</font>"
      ]
    },
    {
      "cell_type": "code",
      "execution_count": null,
      "metadata": {
        "id": "aoQqCwQ8CSzP",
        "vscode": {
          "languageId": "python"
        }
      },
      "outputs": [],
      "source": [
        "%cd darknet/\n",
        "!sed -i 's/OPENCV=0/OPENCV=1/' Makefile\n",
        "!sed -i 's/GPU=0/GPU=1/' Makefile\n",
        "!sed -i 's/CUDNN=0/CUDNN=1/' Makefile"
      ]
    },
    {
      "cell_type": "markdown",
      "metadata": {
        "id": "NK4jA_BTHJ20"
      },
      "source": [
        "##<font color=green>**YOLO 빌드**</font>"
      ]
    },
    {
      "cell_type": "code",
      "execution_count": null,
      "metadata": {
        "id": "xdaqtJXMEB4-",
        "vscode": {
          "languageId": "python"
        }
      },
      "outputs": [],
      "source": [
        "!make"
      ]
    },
    {
      "cell_type": "markdown",
      "metadata": {
        "id": "RQJ3vthnHQrf"
      },
      "source": [
        "##<font color=green>**유용한 함수 구성**</font>\n",
        "imShow() : 저장된 이미지 출력\n",
        "\n",
        "upload() : 현재 폴더 경로에 파일 업로드\n",
        "\n",
        "download() : 현재 폴더 경로의 파일다운로드"
      ]
    },
    {
      "cell_type": "code",
      "execution_count": null,
      "metadata": {
        "id": "J634NpsgEG33",
        "vscode": {
          "languageId": "python"
        }
      },
      "outputs": [],
      "source": [
        "# define helper functions\n",
        "def imShow(path):\n",
        "  import cv2\n",
        "  import matplotlib.pyplot as plt\n",
        "  %matplotlib inline\n",
        "\n",
        "  image = cv2.imread(path)\n",
        "  height, width = image.shape[:2]\n",
        "  resized_image = cv2.resize(image,(3*width, 3*height), interpolation = cv2.INTER_CUBIC)\n",
        "\n",
        "  fig = plt.gcf()\n",
        "  fig.set_size_inches(18, 10)\n",
        "  plt.axis(\"off\")\n",
        "  plt.imshow(cv2.cvtColor(resized_image, cv2.COLOR_BGR2RGB))\n",
        "  plt.show()\n",
        "\n",
        "# use this to upload files\n",
        "def upload():\n",
        "  from google.colab import files\n",
        "  uploaded = files.upload() \n",
        "  for name, data in uploaded.items():\n",
        "    with open(name, 'wb') as f:\n",
        "      f.write(data)\n",
        "      print ('saved file', name)\n",
        "\n",
        "# use this to download a file  \n",
        "def download(path):\n",
        "  from google.colab import files\n",
        "  files.download(path)"
      ]
    },
    {
      "cell_type": "markdown",
      "metadata": {
        "id": "9fM1vW4fHXQU"
      },
      "source": [
        "##<font color=green>**yolov3 weight 설치**</font>"
      ]
    },
    {
      "cell_type": "code",
      "execution_count": null,
      "metadata": {
        "id": "ECdpr3w1EyLP",
        "vscode": {
          "languageId": "python"
        }
      },
      "outputs": [],
      "source": [
        "!wget https://pjreddie.com/media/files/yolov3.weights"
      ]
    },
    {
      "cell_type": "markdown",
      "metadata": {
        "id": "Nslq6akoJHVz"
      },
      "source": [
        "##<font color=green>**yolov4 weight 설치**</font>"
      ]
    },
    {
      "cell_type": "code",
      "execution_count": null,
      "metadata": {
        "id": "rYOPXZU6IvjH",
        "vscode": {
          "languageId": "python"
        }
      },
      "outputs": [],
      "source": [
        "!wget https://github.com/AlexeyAB/darknet/releases/download/darknet_yolo_v3_optimal/yolov4.weights"
      ]
    },
    {
      "cell_type": "markdown",
      "metadata": {
        "id": "YfpkB2nfJSOO"
      },
      "source": [
        "##<font color=green>**yolov3 이미지 실습**</font>"
      ]
    },
    {
      "cell_type": "code",
      "execution_count": null,
      "metadata": {
        "id": "R96kVYQkE1o8",
        "vscode": {
          "languageId": "python"
        }
      },
      "outputs": [],
      "source": [
        "!./darknet detect cfg/yolov3.cfg yolov3.weights data/dog.jpg\n",
        "imShow('predictions.jpg')"
      ]
    },
    {
      "cell_type": "markdown",
      "metadata": {
        "id": "XWWahjhUd18s"
      },
      "source": [
        "##<font color=green>**yolov4 이미지 실습**</font>"
      ]
    },
    {
      "cell_type": "code",
      "execution_count": null,
      "metadata": {
        "id": "8BEdbhKSGJnC",
        "vscode": {
          "languageId": "python"
        }
      },
      "outputs": [],
      "source": [
        "!./darknet detect cfg/yolov4.cfg yolov4.weights data/dog.jpg\n",
        "imShow('predictions.jpg')"
      ]
    },
    {
      "cell_type": "markdown",
      "metadata": {
        "id": "_JFeJtbgVwM2"
      },
      "source": [
        "##<font color=green>**데이터 업로드 진행**</font>"
      ]
    },
    {
      "cell_type": "markdown",
      "metadata": {
        "id": "qKCEr-KyXY3-"
      },
      "source": [
        "####<font color=red>KITTI_data.mp4 다운로드</font>"
      ]
    },
    {
      "cell_type": "code",
      "execution_count": null,
      "metadata": {
        "id": "Lwl1MW78qsnK",
        "vscode": {
          "languageId": "python"
        }
      },
      "outputs": [],
      "source": [
        "!gdown --id 1jXgVk-Ldk-I8CZtgNwM4OMDzJBXIZMEd --output KITTI_data.mp4"
      ]
    },
    {
      "cell_type": "markdown",
      "metadata": {
        "id": "x9NqmFtbd9Q5"
      },
      "source": [
        "#<font color=green>**yolov3 영상데이터 실습**</font>"
      ]
    },
    {
      "cell_type": "code",
      "execution_count": null,
      "metadata": {
        "id": "ZZgLrErNKtJ0",
        "vscode": {
          "languageId": "python"
        }
      },
      "outputs": [],
      "source": [
        "!./darknet detector demo cfg/coco.data cfg/yolov3.cfg yolov3.weights -dont_show KITTI_data.mp4 -out_filename yolo_video.avi"
      ]
    },
    {
      "cell_type": "markdown",
      "metadata": {
        "id": "I91egmTRVadS"
      },
      "source": [
        "####<font color=red>Mask R-CNN 적용된 KITTI_data 다운로드</font>"
      ]
    },
    {
      "cell_type": "code",
      "execution_count": null,
      "metadata": {
        "id": "9jlhFbvfO7vo",
        "vscode": {
          "languageId": "python"
        }
      },
      "outputs": [],
      "source": [
        "from google.colab import files\n",
        "files.download('yolo_video.avi')"
      ]
    }
  ],
  "metadata": {
    "accelerator": "GPU",
    "colab": {
      "collapsed_sections": [],
      "name": "YOLO(HOT).ipynb",
      "provenance": [],
      "toc_visible": true
    },
    "kernelspec": {
      "display_name": "Python 3",
      "name": "python3"
    }
  },
  "nbformat": 4,
  "nbformat_minor": 0
}
