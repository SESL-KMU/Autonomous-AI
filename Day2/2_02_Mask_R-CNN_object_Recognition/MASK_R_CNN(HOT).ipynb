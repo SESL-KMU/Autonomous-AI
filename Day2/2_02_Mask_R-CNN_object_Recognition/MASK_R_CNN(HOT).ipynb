{
  "cells": [
    {
      "cell_type": "markdown",
      "metadata": {
        "id": "B_AeHbFHyR6l"
      },
      "source": [
        "#<font color=blue>**Mask R-CNN 객체 인식 실습**</font>\n",
        "각 셀을 순서대로 shift + ENTER로 실행"
      ]
    },
    {
      "cell_type": "markdown",
      "metadata": {
        "id": "Mw7o_C2aye9W"
      },
      "source": [
        "## <font color=green>**Mask R-CNN을 적용하기위한 적절한 라이브러리 설치 진행**</font>\n",
        "####<font color=red>런타임이 초기화시 재설치 진행</font>"
      ]
    },
    {
      "cell_type": "code",
      "execution_count": null,
      "metadata": {
        "id": "X4Zd14TLK5sb",
        "vscode": {
          "languageId": "python"
        }
      },
      "outputs": [],
      "source": [
        "!pip uninstall -y keras-nightly tensorflow"
      ]
    },
    {
      "cell_type": "code",
      "execution_count": null,
      "metadata": {
        "id": "Vi1cNEwWt6Wt",
        "vscode": {
          "languageId": "python"
        }
      },
      "outputs": [],
      "source": [
        "!pip install tensorboard==1.15.0 tensorflow==1.15.0 tensorflow-estimator==1.15.1 tensorflow-gpu==1.15.2 tensorflow-gpu-estimator==2.1.0 Keras==2.2.5 Keras-Applications==1.0.8 Keras-Preprocessing==1.1.0 h5py==2.10.0 utils"
      ]
    },
    {
      "cell_type": "markdown",
      "metadata": {
        "id": "p5aK35Jx0mpu"
      },
      "source": [
        "##<font color=green>**git의 Mask R-CNN 설치**</font>"
      ]
    },
    {
      "cell_type": "code",
      "execution_count": null,
      "metadata": {
        "id": "nzrTmtSu0V_r",
        "vscode": {
          "languageId": "python"
        }
      },
      "outputs": [],
      "source": [
        "!git clone https://github.com/matterport/Mask_RCNN"
      ]
    },
    {
      "cell_type": "markdown",
      "metadata": {
        "id": "gOl5KYxD1RmB"
      },
      "source": [
        "##<font color=green>**미리 학습된 COCO Weight 설치**</font>"
      ]
    },
    {
      "cell_type": "code",
      "execution_count": null,
      "metadata": {
        "id": "3Qxx3OaO0yic",
        "vscode": {
          "languageId": "python"
        }
      },
      "outputs": [],
      "source": [
        "%cd Mask_RCNN/\n",
        "!wget https://github.com/matterport/Mask_RCNN/releases/download/v2.0/mask_rcnn_coco.h5"
      ]
    },
    {
      "cell_type": "code",
      "execution_count": null,
      "metadata": {
        "id": "OCogHkMJ1Q0B",
        "vscode": {
          "languageId": "python"
        }
      },
      "outputs": [],
      "source": [
        "cd samples/"
      ]
    },
    {
      "cell_type": "markdown",
      "metadata": {
        "id": "bcrzjQb14oVG"
      },
      "source": [
        "##<font color=green>**Mask R-CNN 실습 코드**</font>"
      ]
    },
    {
      "cell_type": "markdown",
      "metadata": {
        "id": "E8rtkpyw6j1u"
      },
      "source": [
        "####<font color=red>라이브러리 및 경로 설정</font>"
      ]
    },
    {
      "cell_type": "code",
      "execution_count": null,
      "metadata": {
        "id": "h9lbRcjv19-p",
        "vscode": {
          "languageId": "python"
        }
      },
      "outputs": [],
      "source": [
        "import os\n",
        "import sys\n",
        "import random\n",
        "import math\n",
        "import numpy as np\n",
        "import skimage.io\n",
        "import matplotlib\n",
        "import matplotlib.pyplot as plt\n",
        "\n",
        "# Root directory of the project\n",
        "ROOT_DIR = os.path.abspath(\"../\")\n",
        "\n",
        "# Import Mask RCNN\n",
        "sys.path.append(ROOT_DIR)  # To find local version of the library\n",
        "from mrcnn import utils\n",
        "import mrcnn.model as modellib\n",
        "from mrcnn import visualize\n",
        "# Import COCO config\n",
        "sys.path.append(os.path.join(ROOT_DIR, \"samples/coco/\"))  # To find local version\n",
        "import coco\n",
        "\n",
        "%matplotlib inline \n",
        "\n",
        "# Directory to save logs and trained model\n",
        "MODEL_DIR = os.path.join(ROOT_DIR, \"logs\")\n",
        "\n",
        "# Local path to trained weights file\n",
        "COCO_MODEL_PATH = os.path.join(ROOT_DIR, \"mask_rcnn_coco.h5\")\n",
        "# Download COCO trained weights from Releases if needed\n",
        "if not os.path.exists(COCO_MODEL_PATH):\n",
        "    utils.download_trained_weights(COCO_MODEL_PATH)\n",
        "\n",
        "# Directory of images to run detection on\n",
        "IMAGE_DIR = os.path.join(ROOT_DIR, \"images\")"
      ]
    },
    {
      "cell_type": "markdown",
      "metadata": {
        "id": "ITyu72hY657v"
      },
      "source": [
        "####<font color=red>GPU 적용 설정 및 기본 설정 구성</font>\n",
        "\n",
        "\n"
      ]
    },
    {
      "cell_type": "code",
      "execution_count": null,
      "metadata": {
        "id": "-_QTCoYb40IE",
        "vscode": {
          "languageId": "python"
        }
      },
      "outputs": [],
      "source": [
        "class InferenceConfig(coco.CocoConfig):\n",
        "    # Set batch size to 1 since we'll be running inference on\n",
        "    # one image at a time. Batch size = GPU_COUNT * IMAGES_PER_GPU\n",
        "    GPU_COUNT = 1\n",
        "    IMAGES_PER_GPU = 1\n",
        "\n",
        "config = InferenceConfig()\n",
        "config.display()"
      ]
    },
    {
      "cell_type": "markdown",
      "metadata": {
        "id": "7Lymvg2U7Etp"
      },
      "source": [
        "####<font color=red>Mask R-CNN 모델 구축</font>"
      ]
    },
    {
      "cell_type": "code",
      "execution_count": null,
      "metadata": {
        "id": "z43M590043Pu",
        "vscode": {
          "languageId": "python"
        }
      },
      "outputs": [],
      "source": [
        "# Create model object in inference mode.\n",
        "model = modellib.MaskRCNN(mode=\"inference\", model_dir=MODEL_DIR, config=config)\n",
        "\n",
        "# Load weights trained on MS-COCO\n",
        "model.load_weights(COCO_MODEL_PATH, by_name=True)"
      ]
    },
    {
      "cell_type": "markdown",
      "metadata": {
        "id": "Vy5jeky47Q5S"
      },
      "source": [
        "####<font color=red>Class Name 설정</font>"
      ]
    },
    {
      "cell_type": "code",
      "execution_count": null,
      "metadata": {
        "id": "WBBiFO_I46LL",
        "vscode": {
          "languageId": "python"
        }
      },
      "outputs": [],
      "source": [
        "# COCO Class names\n",
        "class_names = ['BG', 'person', 'bicycle', 'car', 'motorcycle', 'airplane',\n",
        "               'bus', 'train', 'truck', 'boat', 'traffic light',\n",
        "               'fire hydrant', 'stop sign', 'parking meter', 'bench', 'bird',\n",
        "               'cat', 'dog', 'horse', 'sheep', 'cow', 'elephant', 'bear',\n",
        "               'zebra', 'giraffe', 'backpack', 'umbrella', 'handbag', 'tie',\n",
        "               'suitcase', 'frisbee', 'skis', 'snowboard', 'sports ball',\n",
        "               'kite', 'baseball bat', 'baseball glove', 'skateboard',\n",
        "               'surfboard', 'tennis racket', 'bottle', 'wine glass', 'cup',\n",
        "               'fork', 'knife', 'spoon', 'bowl', 'banana', 'apple',\n",
        "               'sandwich', 'orange', 'broccoli', 'carrot', 'hot dog', 'pizza',\n",
        "               'donut', 'cake', 'chair', 'couch', 'potted plant', 'bed',\n",
        "               'dining table', 'toilet', 'tv', 'laptop', 'mouse', 'remote',\n",
        "               'keyboard', 'cell phone', 'microwave', 'oven', 'toaster',\n",
        "               'sink', 'refrigerator', 'book', 'clock', 'vase', 'scissors',\n",
        "               'teddy bear', 'hair drier', 'toothbrush']"
      ]
    },
    {
      "cell_type": "markdown",
      "metadata": {
        "id": "fD1D_6DI7Xj6"
      },
      "source": [
        "####<font color=red>폴더 경로 내 이미지에 Mask R-CNN 적용</font>"
      ]
    },
    {
      "cell_type": "code",
      "execution_count": null,
      "metadata": {
        "id": "RgDdMinW49SW",
        "vscode": {
          "languageId": "python"
        }
      },
      "outputs": [],
      "source": [
        "# Load a random image from the images folder\n",
        "file_names = next(os.walk(IMAGE_DIR))[2]\n",
        "image = skimage.io.imread(os.path.join(IMAGE_DIR, random.choice(file_names)))\n",
        "\n",
        "# Run detection\n",
        "results = model.detect([image], verbose=1)\n",
        "\n",
        "# Visualize results\n",
        "r = results[0]\n",
        "visualize.display_instances(image, r['rois'], r['masks'], r['class_ids'], \n",
        "                            class_names, r['scores'])"
      ]
    },
    {
      "cell_type": "markdown",
      "metadata": {
        "id": "J_EZJSiQ8YGN"
      },
      "source": [
        "####<font color=red>지정한 이미지에 Mask R-CNN 적용</font>\n",
        "image = skimage.io.imread('적용하고자하는 이미지 경로')"
      ]
    },
    {
      "cell_type": "code",
      "execution_count": null,
      "metadata": {
        "id": "jsSMplwZ5GVA",
        "vscode": {
          "languageId": "python"
        }
      },
      "outputs": [],
      "source": [
        "# Load a random image from the images folder\n",
        "image = skimage.io.imread('/content/Mask_RCNN/images/1045023827_4ec3e8ba5c_z.jpg')\n",
        "\n",
        "# Run detection\n",
        "results = model.detect([image], verbose=1)\n",
        "\n",
        "# Visualize results\n",
        "r = results[0]\n",
        "visualize.display_instances(image, r['rois'], r['masks'], r['class_ids'], \n",
        "                            class_names, r['scores'])"
      ]
    },
    {
      "cell_type": "markdown",
      "metadata": {
        "id": "_JFeJtbgVwM2"
      },
      "source": [
        "##<font color=green>**데이터 업로드 진행**</font>"
      ]
    },
    {
      "cell_type": "markdown",
      "metadata": {
        "id": "qKCEr-KyXY3-"
      },
      "source": [
        "####<font color=red>KITTI_data.mp4 다운로드</font>"
      ]
    },
    {
      "cell_type": "code",
      "execution_count": null,
      "metadata": {
        "id": "Lwl1MW78qsnK",
        "vscode": {
          "languageId": "python"
        }
      },
      "outputs": [],
      "source": [
        "!gdown --id 1V68xfo5-YrpHgh0IPuAPWD21rM6U17hW --output KITTI_data.mp4"
      ]
    },
    {
      "cell_type": "markdown",
      "metadata": {
        "id": "hXcMeNA6NfgS"
      },
      "source": [
        "##<font color=green>**Mask R-CNN 영상 실습**</font>\n",
        "\n",
        "####<font color=red>영상에 Mask R-CNN 적용하기 위한 함수 구성</font>\n",
        "def random_colors():\n",
        "\n",
        "  개별 객체에 적용하기 위한 무작위 색 지정\n",
        "\n",
        "def apply_mask():\n",
        "\n",
        "  이미지에 적용하기 위한 mask 적용 설정\n",
        "    \n",
        "def display_instances():\n",
        "\n",
        "  이미지에 경계박스, 마스크 적용"
      ]
    },
    {
      "cell_type": "code",
      "execution_count": null,
      "metadata": {
        "id": "UIykE_FNBK1R",
        "vscode": {
          "languageId": "python"
        }
      },
      "outputs": [],
      "source": [
        "def random_colors(N):\n",
        "    np.random.seed(1)\n",
        "    colors = [tuple(255 * np.random.rand(3)) for _ in range(N)]\n",
        "    return colors\n",
        "\n",
        "colors = random_colors(len(class_names))\n",
        "class_dict = {\n",
        "    name: color for name, color in zip(class_names, colors)\n",
        "}\n",
        "\n",
        "def apply_mask(image, mask, color, alpha=0.5):\n",
        "    \"\"\"apply mask to image\"\"\"\n",
        "    for n, c in enumerate(color):\n",
        "        image[:, :, n] = np.where(\n",
        "            mask == 1,\n",
        "            image[:, :, n] * (1 - alpha) + alpha * c,\n",
        "            image[:, :, n]\n",
        "        )\n",
        "    return image\n",
        "\n",
        "\n",
        "def display_instances(image, boxes, masks, ids, names, scores):\n",
        "    \"\"\"\n",
        "        take the image and results and apply the mask, box, and Label\n",
        "    \"\"\"\n",
        "    n_instances = boxes.shape[0]\n",
        "\n",
        "    if not n_instances:\n",
        "        print('NO INSTANCES TO DISPLAY')\n",
        "    else:\n",
        "        assert boxes.shape[0] == masks.shape[-1] == ids.shape[0]\n",
        "\n",
        "    for i in range(n_instances):\n",
        "        if not np.any(boxes[i]):\n",
        "            continue\n",
        "\n",
        "        y1, x1, y2, x2 = boxes[i]\n",
        "        label = names[ids[i]]\n",
        "        color = class_dict[label]\n",
        "        score = scores[i] if scores is not None else None\n",
        "        caption = '{} {:.2f}'.format(label, score) if score else label\n",
        "        mask = masks[:, :, i]\n",
        "\n",
        "        image = apply_mask(image, mask, color)\n",
        "        image = cv2.rectangle(image, (x1, y1), (x2, y2), color, 2)\n",
        "        image = cv2.putText(\n",
        "            image, caption, (x1, y1), cv2.FONT_HERSHEY_COMPLEX, 0.7, color, 2\n",
        "        )\n",
        " \n",
        "    return image"
      ]
    },
    {
      "cell_type": "markdown",
      "metadata": {
        "id": "UpG16GOHFI-V"
      },
      "source": [
        "####<font color=red>영상 데이터에 Mask R-CNN 객체 인식 적용</font>\n",
        "capture = cv2.VideoCapture('적용하고자하는 비디오데이터')\n",
        "\n",
        "적용된 영상은 video_masked.avi로 저장"
      ]
    },
    {
      "cell_type": "code",
      "execution_count": null,
      "metadata": {
        "id": "Za1fcefN80JM",
        "vscode": {
          "languageId": "python"
        }
      },
      "outputs": [],
      "source": [
        "import cv2\n",
        "from google.colab.patches import cv2_imshow\n",
        "import numpy as np\n",
        "capture = cv2.VideoCapture('KITTI_data.mp4') #적용하고자 하는 영상 지정\n",
        "size = (\n",
        "    int(capture.get(cv2.CAP_PROP_FRAME_WIDTH)),\n",
        "    int(capture.get(cv2.CAP_PROP_FRAME_HEIGHT))\n",
        ")\n",
        "codec = cv2.VideoWriter_fourcc(*'DIVX')\n",
        "output = cv2.VideoWriter('video_masked.avi', codec, 60.0, size)\n",
        "\n",
        "while(capture.isOpened()):\n",
        "    ret, frame = capture.read()\n",
        "    if ret:\n",
        "        # add mask to frame\n",
        "        results = model.detect([frame], verbose=0)\n",
        "        r = results[0]\n",
        "        frame = display_instances(\n",
        "            frame, r['rois'], r['masks'], r['class_ids'], class_names, r['scores']\n",
        "        )\n",
        "        output.write(frame)\n",
        "        #cv2_imshow(frame)\n",
        "\n",
        "        if cv2.waitKey(1) & 0xFF == ord('q'):\n",
        "            break\n",
        "    else:\n",
        "        break\n",
        "\n",
        "capture.release()\n",
        "output.release()\n",
        "cv2.destroyAllWindows()"
      ]
    },
    {
      "cell_type": "markdown",
      "metadata": {
        "id": "I91egmTRVadS"
      },
      "source": [
        "####<font color=red>Mask R-CNN 적용된 KITTI_data 다운로드</font>"
      ]
    },
    {
      "cell_type": "code",
      "execution_count": null,
      "metadata": {
        "id": "9jlhFbvfO7vo",
        "vscode": {
          "languageId": "python"
        }
      },
      "outputs": [],
      "source": [
        "from google.colab import files\n",
        "files.download('video_masked.avi')"
      ]
    }
  ],
  "metadata": {
    "accelerator": "GPU",
    "colab": {
      "collapsed_sections": [],
      "name": "MASK R-CNN(HOT).ipynb",
      "provenance": []
    },
    "kernelspec": {
      "display_name": "Python 3",
      "name": "python3"
    }
  },
  "nbformat": 4,
  "nbformat_minor": 0
}
