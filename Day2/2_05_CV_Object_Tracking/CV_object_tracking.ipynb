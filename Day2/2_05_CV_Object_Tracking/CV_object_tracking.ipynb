{
  "cells": [
    {
      "cell_type": "markdown",
      "metadata": {
        "id": "kY4mExvnM7OA"
      },
      "source": [
        "#<font color=blue>**CV기반 객체 추적 실습**\n",
        "\n",
        "각 셀을 순서대로 shift + ENTER로 실행"
      ]
    },
    {
      "cell_type": "markdown",
      "metadata": {
        "id": "Adj8Fs97g-R7"
      },
      "source": [
        "##<font color=green>**object_tracking 폴더 생성 및 이동**</font>"
      ]
    },
    {
      "cell_type": "code",
      "execution_count": null,
      "metadata": {
        "id": "T6c39OWK4hKg",
        "vscode": {
          "languageId": "python"
        }
      },
      "outputs": [],
      "source": [
        "%mkdir /CV_object_tracking\n",
        "%cd /CV_object_tracking"
      ]
    },
    {
      "cell_type": "markdown",
      "metadata": {
        "id": "6RUX8Opd792l"
      },
      "source": [
        "##<font color=green>**데이터 업로드 진행**"
      ]
    },
    {
      "cell_type": "code",
      "execution_count": null,
      "metadata": {
        "id": "-XRQCbeBS4mg",
        "vscode": {
          "languageId": "python"
        }
      },
      "outputs": [],
      "source": [
        "!gdown --id 11HPHQX6sAquQ8NYyjFpGJyHqkL4TWZwV --output cv_tracking.zip"
      ]
    },
    {
      "cell_type": "code",
      "execution_count": null,
      "metadata": {
        "id": "MWiZR9KUYZT9",
        "vscode": {
          "languageId": "python"
        }
      },
      "outputs": [],
      "source": [
        "!unzip cv_tracking.zip"
      ]
    },
    {
      "cell_type": "markdown",
      "metadata": {
        "id": "u-S9P0oWRGJx"
      },
      "source": [
        "##<font color=green>**CV기반 객체 추적 실습 진행**"
      ]
    },
    {
      "cell_type": "markdown",
      "metadata": {
        "id": "3wYla1DlRpUX"
      },
      "source": [
        "####<font color=red>CV기반 객체 추적 실습 1"
      ]
    },
    {
      "cell_type": "code",
      "execution_count": null,
      "metadata": {
        "id": "3VMYF-saQyVl",
        "vscode": {
          "languageId": "python"
        }
      },
      "outputs": [],
      "source": [
        "import cv2\n",
        "import numpy as np\n",
        "\n",
        "cap = cv2.VideoCapture(\"./book.mov\")\n",
        "ret, frame = cap.read()\n",
        "\n",
        "termination = (cv2.TERM_CRITERIA_EPS | cv2.TERM_CRITERIA_COUNT, 10, 1)\n",
        "width = cap.get(cv2.CAP_PROP_FRAME_WIDTH)\n",
        "height = cap.get(cv2.CAP_PROP_FRAME_HEIGHT)\n",
        "fourcc = cv2.VideoWriter_fourcc(*'DIVX')\n",
        "out = cv2.VideoWriter('./book_output.avi', fourcc, 30.0, (int(width), int(height)))\n",
        "\n",
        "trackWindow = (356, 119, 357, 524)\n",
        "RoI = frame[trackWindow[1]:trackWindow[1] + trackWindow[3], trackWindow[0]:trackWindow[0] + trackWindow[2]]\n",
        "RoI = cv2.cvtColor(RoI, cv2.COLOR_BGR2HSV)\n",
        "RoI_hist = cv2.calcHist([RoI], [0], None, [180], [0, 180])\n",
        "\n",
        "cv2.normalize(RoI_hist, RoI_hist, 0, 255, cv2.NORM_MINMAX)\n",
        "\n",
        "while True:\n",
        "\n",
        "    ret, frame = cap.read()\n",
        "    \n",
        "    if not ret:\n",
        "        break\n",
        "\n",
        "    if trackWindow is not None:\n",
        "\n",
        "        hsv = cv2.cvtColor(frame, cv2.COLOR_BGR2HSV)\n",
        "        dst = cv2.calcBackProject([hsv], [0, 1], RoI_hist, [0,180, 0, 256], 1)\n",
        "        ret, trackWindow = cv2.CamShift(dst, trackWindow, termination)\n",
        "\n",
        "        x, y, w, h = trackWindow\n",
        "        cv2.rectangle(frame, (x,y), (x+w, y+h), (0,0,255),2)\n",
        "    out.write(frame)\n",
        "\n",
        "cap.release()"
      ]
    },
    {
      "cell_type": "code",
      "execution_count": null,
      "metadata": {
        "colab": {
          "base_uri": "https://localhost:8080/",
          "height": 17
        },
        "id": "eU1Bg3FMcURr",
        "outputId": "12305321-8eec-4ceb-9dc9-54d3ed24c6c5",
        "vscode": {
          "languageId": "python"
        }
      },
      "outputs": [
        {
          "data": {
            "application/javascript": "\n    async function download(id, filename, size) {\n      if (!google.colab.kernel.accessAllowed) {\n        return;\n      }\n      const div = document.createElement('div');\n      const label = document.createElement('label');\n      label.textContent = `Downloading \"${filename}\": `;\n      div.appendChild(label);\n      const progress = document.createElement('progress');\n      progress.max = size;\n      div.appendChild(progress);\n      document.body.appendChild(div);\n\n      const buffers = [];\n      let downloaded = 0;\n\n      const channel = await google.colab.kernel.comms.open(id);\n      // Send a message to notify the kernel that we're ready.\n      channel.send({})\n\n      for await (const message of channel.messages) {\n        // Send a message to notify the kernel that we're ready.\n        channel.send({})\n        if (message.buffers) {\n          for (const buffer of message.buffers) {\n            buffers.push(buffer);\n            downloaded += buffer.byteLength;\n            progress.value = downloaded;\n          }\n        }\n      }\n      const blob = new Blob(buffers, {type: 'application/binary'});\n      const a = document.createElement('a');\n      a.href = window.URL.createObjectURL(blob);\n      a.download = filename;\n      div.appendChild(a);\n      a.click();\n      div.remove();\n    }\n  ",
            "text/plain": [
              "<IPython.core.display.Javascript object>"
            ]
          },
          "metadata": {
            "tags": []
          },
          "output_type": "display_data"
        },
        {
          "data": {
            "application/javascript": "download(\"download_a8293743-566b-4fde-bb9b-49518c1bb6f9\", \"book_output.avi\", 5248558)",
            "text/plain": [
              "<IPython.core.display.Javascript object>"
            ]
          },
          "metadata": {
            "tags": []
          },
          "output_type": "display_data"
        }
      ],
      "source": [
        "from google.colab import files\n",
        "files.download('book_output.avi')"
      ]
    },
    {
      "cell_type": "markdown",
      "metadata": {
        "id": "1jYzPD92XEls"
      },
      "source": [
        "####<font color=red>CV기반 객체 추적 실습 2"
      ]
    },
    {
      "cell_type": "code",
      "execution_count": null,
      "metadata": {
        "id": "w8OZoWiFXElt",
        "vscode": {
          "languageId": "python"
        }
      },
      "outputs": [],
      "source": [
        "import cv2\n",
        "import numpy as np\n",
        "\n",
        "cap = cv2.VideoCapture(\"./motorcycle.mp4\")\n",
        "ret, frame = cap.read()\n",
        "\n",
        "termination = (cv2.TERM_CRITERIA_EPS | cv2.TERM_CRITERIA_COUNT, 10, 1)\n",
        "width = cap.get(cv2.CAP_PROP_FRAME_WIDTH)\n",
        "height = cap.get(cv2.CAP_PROP_FRAME_HEIGHT)\n",
        "fourcc = cv2.VideoWriter_fourcc(*'DIVX')\n",
        "out = cv2.VideoWriter('./motorcycle_output.avi', fourcc, 30.0, (int(width), int(height)))\n",
        "\n",
        "trackWindow = (513, 228, 43, 53)\n",
        "RoI = frame[trackWindow[1]:trackWindow[1] + trackWindow[3], trackWindow[0]:trackWindow[0] + trackWindow[2]]\n",
        "RoI = cv2.cvtColor(RoI, cv2.COLOR_BGR2HSV)\n",
        "RoI_hist = cv2.calcHist([RoI], [0], None, [180], [0, 180])\n",
        "\n",
        "cv2.normalize(RoI_hist, RoI_hist, 0, 255, cv2.NORM_MINMAX)\n",
        "\n",
        "while True:\n",
        "\n",
        "    ret, frame = cap.read()\n",
        "    \n",
        "    if not ret:\n",
        "        break\n",
        "\n",
        "    if trackWindow is not None:\n",
        "\n",
        "        hsv = cv2.cvtColor(frame, cv2.COLOR_BGR2HSV)\n",
        "        dst = cv2.calcBackProject([hsv], [0, 1], RoI_hist, [0,180, 0, 256], 1)\n",
        "        ret, trackWindow = cv2.CamShift(dst, trackWindow, termination)\n",
        "\n",
        "        x, y, w, h = trackWindow\n",
        "        cv2.rectangle(frame, (x,y), (x+w, y+h), (0,0,255),2)\n",
        "    out.write(frame)\n",
        "\n",
        "cap.release()"
      ]
    },
    {
      "cell_type": "code",
      "execution_count": null,
      "metadata": {
        "id": "fAH3OuUp4ELX",
        "vscode": {
          "languageId": "python"
        }
      },
      "outputs": [],
      "source": [
        "from google.colab import files\n",
        "files.download('motorcycle_output.avi')"
      ]
    }
  ],
  "metadata": {
    "accelerator": "GPU",
    "colab": {
      "collapsed_sections": [],
      "name": "CV_object_tracking.ipynb",
      "provenance": [],
      "toc_visible": true
    },
    "kernelspec": {
      "display_name": "Python 3",
      "name": "python3"
    }
  },
  "nbformat": 4,
  "nbformat_minor": 0
}
