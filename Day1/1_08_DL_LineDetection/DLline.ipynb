{
  "cells": [
    {
      "cell_type": "markdown",
      "metadata": {
        "id": "_MJ09naBjfA3"
      },
      "source": [
        "#<font color=blue>**딥러닝 차선 인식 실습**</font>\n",
        "\n",
        "\n",
        "각 셀을 순서대로 shift + ENTER로 실행"
      ]
    },
    {
      "cell_type": "markdown",
      "metadata": {
        "id": "raEMEsmZlEsQ"
      },
      "source": [
        "##<font color=green>**딥러닝 차선 인식 코드 경로로 이동**</font>"
      ]
    },
    {
      "cell_type": "code",
      "execution_count": 10,
      "metadata": {
        "id": "PdHHDvnXtahE"
      },
      "outputs": [
        {
          "data": {
            "text/plain": [
              "'d:\\\\4학년 설계\\\\25년 1학기 수업자료\\\\4주차 - Line detection\\\\4주차_실습\\\\4주차_실습\\\\1_08_DL_LineDetection'"
            ]
          },
          "execution_count": 10,
          "metadata": {},
          "output_type": "execute_result"
        }
      ],
      "source": [
        "# cd /Autonomous-AI/Day1/1_08_DL_LineDetection/\n",
        "import os\n",
        "os.getcwd()"
      ]
    },
    {
      "cell_type": "markdown",
      "metadata": {
        "id": "StUthkT-lItz"
      },
      "source": [
        "## <font color=green>**딥러닝 차선인식을 적용하기위한 적절한 라이브러리 설치 진행**</font>"
      ]
    },
    {
      "cell_type": "code",
      "execution_count": 11,
      "metadata": {
        "id": "HSEV1hjKrM98"
      },
      "outputs": [
        {
          "data": {
            "text/plain": [
              "'1.15.0'"
            ]
          },
          "execution_count": 11,
          "metadata": {},
          "output_type": "execute_result"
        }
      ],
      "source": [
        "import tensorflow as tf\n",
        "tf.__version__"
      ]
    },
    {
      "cell_type": "code",
      "execution_count": 12,
      "metadata": {
        "id": "2Vn2apiCrUFT"
      },
      "outputs": [
        {
          "name": "stdout",
          "output_type": "stream",
          "text": [
            "Found existing installation: tensorflow 1.15.0\n",
            "Uninstalling tensorflow-1.15.0:\n",
            "  Successfully uninstalled tensorflow-1.15.0\n",
            "Note: you may need to restart the kernel to use updated packages.\n"
          ]
        },
        {
          "name": "stderr",
          "output_type": "stream",
          "text": [
            "WARNING: Skipping keras-nightly as it is not installed.\n",
            "ERROR: Exception:\n",
            "Traceback (most recent call last):\n",
            "  File \"c:\\Users\\user\\Anaconda3\\envs\\avod_env\\lib\\site-packages\\pip\\_internal\\cli\\base_command.py\", line 160, in exc_logging_wrapper\n",
            "    status = run_func(*args)\n",
            "  File \"c:\\Users\\user\\Anaconda3\\envs\\avod_env\\lib\\site-packages\\pip\\_internal\\commands\\uninstall.py\", line 103, in run\n",
            "    uninstall_pathset.commit()\n",
            "  File \"c:\\Users\\user\\Anaconda3\\envs\\avod_env\\lib\\site-packages\\pip\\_internal\\req\\req_uninstall.py\", line 424, in commit\n",
            "    self._moved_paths.commit()\n",
            "  File \"c:\\Users\\user\\Anaconda3\\envs\\avod_env\\lib\\site-packages\\pip\\_internal\\req\\req_uninstall.py\", line 277, in commit\n",
            "    save_dir.cleanup()\n",
            "  File \"c:\\Users\\user\\Anaconda3\\envs\\avod_env\\lib\\site-packages\\pip\\_internal\\utils\\temp_dir.py\", line 173, in cleanup\n",
            "    rmtree(self._path)\n",
            "  File \"c:\\Users\\user\\Anaconda3\\envs\\avod_env\\lib\\site-packages\\pip\\_vendor\\tenacity\\__init__.py\", line 328, in wrapped_f\n",
            "    return self(f, *args, **kw)\n",
            "  File \"c:\\Users\\user\\Anaconda3\\envs\\avod_env\\lib\\site-packages\\pip\\_vendor\\tenacity\\__init__.py\", line 408, in __call__\n",
            "    do = self.iter(retry_state=retry_state)\n",
            "  File \"c:\\Users\\user\\Anaconda3\\envs\\avod_env\\lib\\site-packages\\pip\\_vendor\\tenacity\\__init__.py\", line 364, in iter\n",
            "    raise retry_exc.reraise()\n",
            "  File \"c:\\Users\\user\\Anaconda3\\envs\\avod_env\\lib\\site-packages\\pip\\_vendor\\tenacity\\__init__.py\", line 197, in reraise\n",
            "    raise self.last_attempt.result()\n",
            "  File \"c:\\Users\\user\\Anaconda3\\envs\\avod_env\\lib\\concurrent\\futures\\_base.py\", line 428, in result\n",
            "    return self.__get_result()\n",
            "  File \"c:\\Users\\user\\Anaconda3\\envs\\avod_env\\lib\\concurrent\\futures\\_base.py\", line 384, in __get_result\n",
            "    raise self._exception\n",
            "  File \"c:\\Users\\user\\Anaconda3\\envs\\avod_env\\lib\\site-packages\\pip\\_vendor\\tenacity\\__init__.py\", line 411, in __call__\n",
            "    result = fn(*args, **kwargs)\n",
            "  File \"c:\\Users\\user\\Anaconda3\\envs\\avod_env\\lib\\site-packages\\pip\\_internal\\utils\\misc.py\", line 128, in rmtree\n",
            "    shutil.rmtree(dir, ignore_errors=ignore_errors, onerror=rmtree_errorhandler)\n",
            "  File \"c:\\Users\\user\\Anaconda3\\envs\\avod_env\\lib\\shutil.py\", line 516, in rmtree\n",
            "    return _rmtree_unsafe(path, onerror)\n",
            "  File \"c:\\Users\\user\\Anaconda3\\envs\\avod_env\\lib\\shutil.py\", line 395, in _rmtree_unsafe\n",
            "    _rmtree_unsafe(fullname, onerror)\n",
            "  File \"c:\\Users\\user\\Anaconda3\\envs\\avod_env\\lib\\shutil.py\", line 395, in _rmtree_unsafe\n",
            "    _rmtree_unsafe(fullname, onerror)\n",
            "  File \"c:\\Users\\user\\Anaconda3\\envs\\avod_env\\lib\\shutil.py\", line 395, in _rmtree_unsafe\n",
            "    _rmtree_unsafe(fullname, onerror)\n",
            "  [Previous line repeated 1 more time]\n",
            "  File \"c:\\Users\\user\\Anaconda3\\envs\\avod_env\\lib\\shutil.py\", line 400, in _rmtree_unsafe\n",
            "    onerror(os.unlink, fullname, sys.exc_info())\n",
            "  File \"c:\\Users\\user\\Anaconda3\\envs\\avod_env\\lib\\shutil.py\", line 398, in _rmtree_unsafe\n",
            "    os.unlink(fullname)\n",
            "PermissionError: [WinError 5] 액세스가 거부되었습니다: 'c:\\\\users\\\\user\\\\anaconda3\\\\envs\\\\avod_env\\\\lib\\\\site-packages\\\\~ensorflow_core\\\\contrib\\\\factorization\\\\python\\\\ops\\\\_factorization_ops.so'\n"
          ]
        }
      ],
      "source": [
        "pip uninstall -y keras-nightly tensorflow"
      ]
    },
    {
      "cell_type": "code",
      "execution_count": 13,
      "metadata": {
        "id": "h-rdya9OwH6q"
      },
      "outputs": [
        {
          "name": "stdout",
          "output_type": "stream",
          "text": [
            "Collecting gast==0.3.2\n",
            "  Downloading gast-0.3.2.tar.gz (13 kB)\n",
            "  Preparing metadata (setup.py): started\n",
            "  Preparing metadata (setup.py): finished with status 'done'\n",
            "Building wheels for collected packages: gast\n",
            "  Building wheel for gast (setup.py): started\n",
            "  Building wheel for gast (setup.py): finished with status 'done'\n",
            "  Created wheel for gast: filename=gast-0.3.2-py3-none-any.whl size=9704 sha256=9d834a6350fc5d990a573cc90833b839f9bd3505e690076235a7fa06c5ce93b4\n",
            "  Stored in directory: c:\\users\\user\\appdata\\local\\pip\\cache\\wheels\\1d\\9b\\2b\\63b6d01a6bb799c812934ae5b4c9cb3b35ee7dfefe0b944304\n",
            "Successfully built gast\n",
            "Installing collected packages: gast\n",
            "  Attempting uninstall: gast\n",
            "    Found existing installation: gast 0.2.2\n",
            "    Uninstalling gast-0.2.2:\n",
            "      Successfully uninstalled gast-0.2.2\n",
            "Successfully installed gast-0.3.2\n",
            "Note: you may need to restart the kernel to use updated packages.\n"
          ]
        },
        {
          "name": "stderr",
          "output_type": "stream",
          "text": [
            "ERROR: pip's dependency resolver does not currently take into account all the packages that are installed. This behaviour is the source of the following dependency conflicts.\n",
            "tensorflow-gpu 1.15.5 requires gast==0.2.2, but you have gast 0.3.2 which is incompatible.\n"
          ]
        }
      ],
      "source": [
        "pip install gast==0.3.2"
      ]
    },
    {
      "cell_type": "code",
      "execution_count": 14,
      "metadata": {
        "id": "jzzeDEJlsNiD"
      },
      "outputs": [
        {
          "name": "stdout",
          "output_type": "stream",
          "text": [
            "Collecting tensorflow==1.15.0\n",
            "  Using cached tensorflow-1.15.0-cp37-cp37m-win_amd64.whl (295.1 MB)\n",
            "Requirement already satisfied: wheel>=0.26 in c:\\users\\user\\anaconda3\\envs\\avod_env\\lib\\site-packages (from tensorflow==1.15.0) (0.38.4)\n",
            "Requirement already satisfied: tensorboard<1.16.0,>=1.15.0 in c:\\users\\user\\anaconda3\\envs\\avod_env\\lib\\site-packages (from tensorflow==1.15.0) (1.15.0)\n",
            "Requirement already satisfied: termcolor>=1.1.0 in c:\\users\\user\\anaconda3\\envs\\avod_env\\lib\\site-packages (from tensorflow==1.15.0) (2.3.0)\n",
            "Requirement already satisfied: opt-einsum>=2.3.2 in c:\\users\\user\\anaconda3\\envs\\avod_env\\lib\\site-packages (from tensorflow==1.15.0) (3.3.0)\n",
            "Requirement already satisfied: tensorflow-estimator==1.15.1 in c:\\users\\user\\anaconda3\\envs\\avod_env\\lib\\site-packages (from tensorflow==1.15.0) (1.15.1)\n",
            "Requirement already satisfied: google-pasta>=0.1.6 in c:\\users\\user\\anaconda3\\envs\\avod_env\\lib\\site-packages (from tensorflow==1.15.0) (0.2.0)\n",
            "Requirement already satisfied: protobuf>=3.6.1 in c:\\users\\user\\anaconda3\\envs\\avod_env\\lib\\site-packages (from tensorflow==1.15.0) (3.20.3)\n",
            "Collecting gast==0.2.2\n",
            "  Using cached gast-0.2.2-py3-none-any.whl\n",
            "Requirement already satisfied: keras-preprocessing>=1.0.5 in c:\\users\\user\\anaconda3\\envs\\avod_env\\lib\\site-packages (from tensorflow==1.15.0) (1.1.2)\n",
            "Requirement already satisfied: numpy<2.0,>=1.16.0 in c:\\users\\user\\anaconda3\\envs\\avod_env\\lib\\site-packages (from tensorflow==1.15.0) (1.18.5)\n",
            "Requirement already satisfied: six>=1.10.0 in c:\\users\\user\\anaconda3\\envs\\avod_env\\lib\\site-packages (from tensorflow==1.15.0) (1.17.0)\n",
            "Requirement already satisfied: wrapt>=1.11.1 in c:\\users\\user\\anaconda3\\envs\\avod_env\\lib\\site-packages (from tensorflow==1.15.0) (1.16.0)\n",
            "Requirement already satisfied: keras-applications>=1.0.8 in c:\\users\\user\\anaconda3\\envs\\avod_env\\lib\\site-packages (from tensorflow==1.15.0) (1.0.8)\n",
            "Requirement already satisfied: grpcio>=1.8.6 in c:\\users\\user\\anaconda3\\envs\\avod_env\\lib\\site-packages (from tensorflow==1.15.0) (1.62.3)\n",
            "Requirement already satisfied: astor>=0.6.0 in c:\\users\\user\\anaconda3\\envs\\avod_env\\lib\\site-packages (from tensorflow==1.15.0) (0.8.1)\n",
            "Requirement already satisfied: absl-py>=0.7.0 in c:\\users\\user\\anaconda3\\envs\\avod_env\\lib\\site-packages (from tensorflow==1.15.0) (2.1.0)\n",
            "Requirement already satisfied: h5py in c:\\users\\user\\anaconda3\\envs\\avod_env\\lib\\site-packages (from keras-applications>=1.0.8->tensorflow==1.15.0) (2.10.0)\n",
            "Requirement already satisfied: setuptools>=41.0.0 in c:\\users\\user\\anaconda3\\envs\\avod_env\\lib\\site-packages (from tensorboard<1.16.0,>=1.15.0->tensorflow==1.15.0) (58.0.0)\n",
            "Requirement already satisfied: markdown>=2.6.8 in c:\\users\\user\\anaconda3\\envs\\avod_env\\lib\\site-packages (from tensorboard<1.16.0,>=1.15.0->tensorflow==1.15.0) (3.4.4)\n",
            "Requirement already satisfied: werkzeug>=0.11.15 in c:\\users\\user\\anaconda3\\envs\\avod_env\\lib\\site-packages (from tensorboard<1.16.0,>=1.15.0->tensorflow==1.15.0) (2.2.3)\n",
            "Requirement already satisfied: importlib-metadata>=4.4 in c:\\users\\user\\anaconda3\\envs\\avod_env\\lib\\site-packages (from markdown>=2.6.8->tensorboard<1.16.0,>=1.15.0->tensorflow==1.15.0) (6.7.0)\n",
            "Requirement already satisfied: MarkupSafe>=2.1.1 in c:\\users\\user\\anaconda3\\envs\\avod_env\\lib\\site-packages (from werkzeug>=0.11.15->tensorboard<1.16.0,>=1.15.0->tensorflow==1.15.0) (2.1.5)\n",
            "Requirement already satisfied: typing-extensions>=3.6.4 in c:\\users\\user\\anaconda3\\envs\\avod_env\\lib\\site-packages (from importlib-metadata>=4.4->markdown>=2.6.8->tensorboard<1.16.0,>=1.15.0->tensorflow==1.15.0) (4.7.1)\n",
            "Requirement already satisfied: zipp>=0.5 in c:\\users\\user\\anaconda3\\envs\\avod_env\\lib\\site-packages (from importlib-metadata>=4.4->markdown>=2.6.8->tensorboard<1.16.0,>=1.15.0->tensorflow==1.15.0) (3.15.0)\n",
            "Installing collected packages: gast, tensorflow\n",
            "  Attempting uninstall: gast\n",
            "    Found existing installation: gast 0.3.2\n",
            "    Uninstalling gast-0.3.2:\n",
            "      Successfully uninstalled gast-0.3.2\n",
            "Successfully installed gast-0.2.2 tensorflow-1.15.0\n",
            "Note: you may need to restart the kernel to use updated packages.\n"
          ]
        }
      ],
      "source": [
        "pip install tensorflow==1.15.0"
      ]
    },
    {
      "cell_type": "code",
      "execution_count": 15,
      "metadata": {
        "id": "WPbD2b2KjWeo"
      },
      "outputs": [
        {
          "name": "stdout",
          "output_type": "stream",
          "text": [
            "Requirement already satisfied: numpy in c:\\users\\user\\anaconda3\\envs\\avod_env\\lib\\site-packages (from -r requirements.txt (line 1)) (1.18.5)\n",
            "Requirement already satisfied: tqdm in c:\\users\\user\\anaconda3\\envs\\avod_env\\lib\\site-packages (from -r requirements.txt (line 2)) (4.67.1)\n",
            "Requirement already satisfied: glog in c:\\users\\user\\anaconda3\\envs\\avod_env\\lib\\site-packages (from -r requirements.txt (line 3)) (0.3.1)\n",
            "Requirement already satisfied: easydict in c:\\users\\user\\anaconda3\\envs\\avod_env\\lib\\site-packages (from -r requirements.txt (line 4)) (1.13)\n",
            "Requirement already satisfied: matplotlib in c:\\users\\user\\anaconda3\\envs\\avod_env\\lib\\site-packages (from -r requirements.txt (line 5)) (3.5.3)\n",
            "Requirement already satisfied: loguru in c:\\users\\user\\anaconda3\\envs\\avod_env\\lib\\site-packages (from -r requirements.txt (line 6)) (0.7.3)\n",
            "Requirement already satisfied: pyyaml in c:\\users\\user\\anaconda3\\envs\\avod_env\\lib\\site-packages (from -r requirements.txt (line 7)) (6.0.1)\n",
            "Requirement already satisfied: scikit-learn in c:\\users\\user\\anaconda3\\envs\\avod_env\\lib\\site-packages (from -r requirements.txt (line 8)) (0.24.2)\n",
            "Requirement already satisfied: colorama in c:\\users\\user\\anaconda3\\envs\\avod_env\\lib\\site-packages (from tqdm->-r requirements.txt (line 2)) (0.4.6)\n",
            "Requirement already satisfied: six in c:\\users\\user\\anaconda3\\envs\\avod_env\\lib\\site-packages (from glog->-r requirements.txt (line 3)) (1.17.0)\n",
            "Requirement already satisfied: python-gflags>=3.1 in c:\\users\\user\\anaconda3\\envs\\avod_env\\lib\\site-packages (from glog->-r requirements.txt (line 3)) (3.1.2)\n",
            "Requirement already satisfied: pyparsing>=2.2.1 in c:\\users\\user\\anaconda3\\envs\\avod_env\\lib\\site-packages (from matplotlib->-r requirements.txt (line 5)) (3.1.4)\n",
            "Requirement already satisfied: fonttools>=4.22.0 in c:\\users\\user\\anaconda3\\envs\\avod_env\\lib\\site-packages (from matplotlib->-r requirements.txt (line 5)) (4.38.0)\n",
            "Requirement already satisfied: pillow>=6.2.0 in c:\\users\\user\\anaconda3\\envs\\avod_env\\lib\\site-packages (from matplotlib->-r requirements.txt (line 5)) (8.4.0)\n",
            "Requirement already satisfied: python-dateutil>=2.7 in c:\\users\\user\\anaconda3\\envs\\avod_env\\lib\\site-packages (from matplotlib->-r requirements.txt (line 5)) (2.9.0)\n",
            "Requirement already satisfied: cycler>=0.10 in c:\\users\\user\\anaconda3\\envs\\avod_env\\lib\\site-packages (from matplotlib->-r requirements.txt (line 5)) (0.11.0)\n",
            "Requirement already satisfied: packaging>=20.0 in c:\\users\\user\\anaconda3\\envs\\avod_env\\lib\\site-packages (from matplotlib->-r requirements.txt (line 5)) (23.2)\n",
            "Requirement already satisfied: kiwisolver>=1.0.1 in c:\\users\\user\\anaconda3\\envs\\avod_env\\lib\\site-packages (from matplotlib->-r requirements.txt (line 5)) (1.4.5)\n",
            "Requirement already satisfied: win32-setctime>=1.0.0 in c:\\users\\user\\anaconda3\\envs\\avod_env\\lib\\site-packages (from loguru->-r requirements.txt (line 6)) (1.2.0)\n",
            "Requirement already satisfied: threadpoolctl>=2.0.0 in c:\\users\\user\\anaconda3\\envs\\avod_env\\lib\\site-packages (from scikit-learn->-r requirements.txt (line 8)) (3.1.0)\n",
            "Requirement already satisfied: scipy>=0.19.1 in c:\\users\\user\\anaconda3\\envs\\avod_env\\lib\\site-packages (from scikit-learn->-r requirements.txt (line 8)) (1.7.3)\n",
            "Requirement already satisfied: joblib>=0.11 in c:\\users\\user\\anaconda3\\envs\\avod_env\\lib\\site-packages (from scikit-learn->-r requirements.txt (line 8)) (1.3.2)\n",
            "Requirement already satisfied: typing-extensions in c:\\users\\user\\anaconda3\\envs\\avod_env\\lib\\site-packages (from kiwisolver>=1.0.1->matplotlib->-r requirements.txt (line 5)) (4.7.1)\n",
            "Note: you may need to restart the kernel to use updated packages.\n"
          ]
        }
      ],
      "source": [
        "pip install -r requirements.txt"
      ]
    },
    {
      "cell_type": "code",
      "execution_count": 16,
      "metadata": {
        "id": "VEQU0VCYsBZw"
      },
      "outputs": [
        {
          "data": {
            "text/plain": [
              "'1.15.0'"
            ]
          },
          "execution_count": 16,
          "metadata": {},
          "output_type": "execute_result"
        }
      ],
      "source": [
        "import tensorflow as tf\n",
        "tf.__version__"
      ]
    },
    {
      "cell_type": "markdown",
      "metadata": {
        "id": "BTnISmRTlXE9"
      },
      "source": [
        "## <font color=green>**딥러닝 차선 인식 실습 진행**</font>"
      ]
    },
    {
      "cell_type": "code",
      "execution_count": 17,
      "metadata": {
        "id": "MToJCByfuRe8"
      },
      "outputs": [
        {
          "ename": "ValueError",
          "evalue": "Variable LaneNet/bisenetv2_frontend/detail_branch/stage_1/conv_block_1_repeat_1/3x3_conv/conv/W already exists, disallowed. Did you mean to set reuse=True or reuse=tf.AUTO_REUSE in VarScope? Originally defined at:\n\n  File \"c:\\Users\\user\\Anaconda3\\envs\\avod_env\\lib\\site-packages\\tensorflow_core\\python\\framework\\ops.py\", line 1748, in __init__\n    self._traceback = tf_stack.extract_stack()\n  File \"c:\\Users\\user\\Anaconda3\\envs\\avod_env\\lib\\site-packages\\tensorflow_core\\python\\framework\\ops.py\", line 3426, in _create_op_internal\n    op_def=op_def)\n  File \"c:\\Users\\user\\Anaconda3\\envs\\avod_env\\lib\\site-packages\\tensorflow_core\\python\\framework\\ops.py\", line 3357, in create_op\n    attrs, op_def, compute_device)\n  File \"c:\\Users\\user\\Anaconda3\\envs\\avod_env\\lib\\site-packages\\tensorflow_core\\python\\util\\deprecation.py\", line 507, in new_func\n    return func(*args, **kwargs)\n  File \"c:\\Users\\user\\Anaconda3\\envs\\avod_env\\lib\\site-packages\\tensorflow_core\\python\\framework\\op_def_library.py\", line 794, in _apply_op_helper\n    op_def=op_def)\n",
          "output_type": "error",
          "traceback": [
            "\u001b[1;31m---------------------------------------------------------------------------\u001b[0m",
            "\u001b[1;31mValueError\u001b[0m                                Traceback (most recent call last)",
            "\u001b[1;32md:\\4학년 설계\\25년 1학기 수업자료\\4주차 - Line detection\\4주차_실습\\4주차_실습\\1_08_DL_LineDetection\\test_video_lanenet.py\u001b[0m in \u001b[0;36m<module>\u001b[1;34m\u001b[0m\n\u001b[0;32m    137\u001b[0m     \u001b[0margs\u001b[0m \u001b[1;33m=\u001b[0m \u001b[0minit_args\u001b[0m\u001b[1;33m(\u001b[0m\u001b[1;33m)\u001b[0m\u001b[1;33m\u001b[0m\u001b[1;33m\u001b[0m\u001b[0m\n\u001b[0;32m    138\u001b[0m \u001b[1;33m\u001b[0m\u001b[0m\n\u001b[1;32m--> 139\u001b[1;33m     \u001b[0mtest_lanenet\u001b[0m\u001b[1;33m(\u001b[0m\u001b[0margs\u001b[0m\u001b[1;33m.\u001b[0m\u001b[0mweights_path\u001b[0m\u001b[1;33m,\u001b[0m \u001b[0margs\u001b[0m\u001b[1;33m.\u001b[0m\u001b[0mvideo_path\u001b[0m\u001b[1;33m)\u001b[0m\u001b[1;33m\u001b[0m\u001b[1;33m\u001b[0m\u001b[0m\n\u001b[0m\u001b[0;32m    140\u001b[0m     \u001b[1;31m# test_lanenet(\"/model/tusimple_lanenet/tusimple_lanenet.ckpt\", \"./data/tusimple_test_image/0.jpg\")\u001b[0m\u001b[1;33m\u001b[0m\u001b[1;33m\u001b[0m\u001b[1;33m\u001b[0m\u001b[0m\n\u001b[0;32m    141\u001b[0m \u001b[1;33m\u001b[0m\u001b[0m\n",
            "\u001b[1;32md:\\4학년 설계\\25년 1학기 수업자료\\4주차 - Line detection\\4주차_실습\\4주차_실습\\1_08_DL_LineDetection\\test_video_lanenet.py\u001b[0m in \u001b[0;36mtest_lanenet\u001b[1;34m(weights_path, video_path)\u001b[0m\n\u001b[0;32m     49\u001b[0m \u001b[1;33m\u001b[0m\u001b[0m\n\u001b[0;32m     50\u001b[0m     \u001b[0mnet\u001b[0m \u001b[1;33m=\u001b[0m \u001b[0mlanenet\u001b[0m\u001b[1;33m.\u001b[0m\u001b[0mLaneNet\u001b[0m\u001b[1;33m(\u001b[0m\u001b[0mphase\u001b[0m\u001b[1;33m=\u001b[0m\u001b[1;34m'test'\u001b[0m\u001b[1;33m,\u001b[0m \u001b[0mcfg\u001b[0m\u001b[1;33m=\u001b[0m\u001b[0mCFG\u001b[0m\u001b[1;33m)\u001b[0m\u001b[1;33m\u001b[0m\u001b[1;33m\u001b[0m\u001b[0m\n\u001b[1;32m---> 51\u001b[1;33m     \u001b[0mbinary_seg_ret\u001b[0m\u001b[1;33m,\u001b[0m \u001b[0minstance_seg_ret\u001b[0m \u001b[1;33m=\u001b[0m \u001b[0mnet\u001b[0m\u001b[1;33m.\u001b[0m\u001b[0minference\u001b[0m\u001b[1;33m(\u001b[0m\u001b[0minput_tensor\u001b[0m\u001b[1;33m=\u001b[0m\u001b[0minput_tensor\u001b[0m\u001b[1;33m,\u001b[0m \u001b[0mname\u001b[0m\u001b[1;33m=\u001b[0m\u001b[1;34m'LaneNet'\u001b[0m\u001b[1;33m)\u001b[0m\u001b[1;33m\u001b[0m\u001b[1;33m\u001b[0m\u001b[0m\n\u001b[0m\u001b[0;32m     52\u001b[0m \u001b[1;33m\u001b[0m\u001b[0m\n\u001b[0;32m     53\u001b[0m     \u001b[0mpostprocessor\u001b[0m \u001b[1;33m=\u001b[0m \u001b[0mlanenet_postprocess\u001b[0m\u001b[1;33m.\u001b[0m\u001b[0mLaneNetPostProcessor\u001b[0m\u001b[1;33m(\u001b[0m\u001b[0mcfg\u001b[0m\u001b[1;33m=\u001b[0m\u001b[0mCFG\u001b[0m\u001b[1;33m)\u001b[0m\u001b[1;33m\u001b[0m\u001b[1;33m\u001b[0m\u001b[0m\n",
            "\u001b[1;32md:\\4학년 설계\\25년 1학기 수업자료\\4주차 - Line detection\\4주차_실습\\4주차_실습\\1_08_DL_LineDetection\\lanenet_model\\lanenet.py\u001b[0m in \u001b[0;36minference\u001b[1;34m(self, input_tensor, name, reuse)\u001b[0m\n\u001b[0;32m     48\u001b[0m                 \u001b[0minput_tensor\u001b[0m\u001b[1;33m=\u001b[0m\u001b[0minput_tensor\u001b[0m\u001b[1;33m,\u001b[0m\u001b[1;33m\u001b[0m\u001b[1;33m\u001b[0m\u001b[0m\n\u001b[0;32m     49\u001b[0m                 \u001b[0mname\u001b[0m\u001b[1;33m=\u001b[0m\u001b[1;34m'{:s}_frontend'\u001b[0m\u001b[1;33m.\u001b[0m\u001b[0mformat\u001b[0m\u001b[1;33m(\u001b[0m\u001b[0mself\u001b[0m\u001b[1;33m.\u001b[0m\u001b[0m_net_flag\u001b[0m\u001b[1;33m)\u001b[0m\u001b[1;33m,\u001b[0m\u001b[1;33m\u001b[0m\u001b[1;33m\u001b[0m\u001b[0m\n\u001b[1;32m---> 50\u001b[1;33m                 \u001b[0mreuse\u001b[0m\u001b[1;33m=\u001b[0m\u001b[0mreuse\u001b[0m\u001b[1;33m\u001b[0m\u001b[1;33m\u001b[0m\u001b[0m\n\u001b[0m\u001b[0;32m     51\u001b[0m             )\n\u001b[0;32m     52\u001b[0m \u001b[1;33m\u001b[0m\u001b[0m\n",
            "\u001b[1;32md:\\4학년 설계\\25년 1학기 수업자료\\4주차 - Line detection\\4주차_실습\\4주차_실습\\1_08_DL_LineDetection\\lanenet_model\\lanenet_front_end.py\u001b[0m in \u001b[0;36mbuild_model\u001b[1;34m(self, input_tensor, name, reuse)\u001b[0m\n\u001b[0;32m     44\u001b[0m             \u001b[0minput_tensor\u001b[0m\u001b[1;33m=\u001b[0m\u001b[0minput_tensor\u001b[0m\u001b[1;33m,\u001b[0m\u001b[1;33m\u001b[0m\u001b[1;33m\u001b[0m\u001b[0m\n\u001b[0;32m     45\u001b[0m             \u001b[0mname\u001b[0m\u001b[1;33m=\u001b[0m\u001b[0mname\u001b[0m\u001b[1;33m,\u001b[0m\u001b[1;33m\u001b[0m\u001b[1;33m\u001b[0m\u001b[0m\n\u001b[1;32m---> 46\u001b[1;33m             \u001b[0mreuse\u001b[0m\u001b[1;33m=\u001b[0m\u001b[0mreuse\u001b[0m\u001b[1;33m\u001b[0m\u001b[1;33m\u001b[0m\u001b[0m\n\u001b[0m\u001b[0;32m     47\u001b[0m         )\n",
            "\u001b[1;32md:\\4학년 설계\\25년 1학기 수업자료\\4주차 - Line detection\\4주차_실습\\4주차_실습\\1_08_DL_LineDetection\\semantic_segmentation_zoo\\bisenet_v2.py\u001b[0m in \u001b[0;36mbuild_model\u001b[1;34m(self, input_tensor, name, reuse)\u001b[0m\n\u001b[0;32m   1053\u001b[0m             detail_branch_output = self.build_detail_branch(\n\u001b[0;32m   1054\u001b[0m                 \u001b[0minput_tensor\u001b[0m\u001b[1;33m=\u001b[0m\u001b[0minput_tensor\u001b[0m\u001b[1;33m,\u001b[0m\u001b[1;33m\u001b[0m\u001b[1;33m\u001b[0m\u001b[0m\n\u001b[1;32m-> 1055\u001b[1;33m                 \u001b[0mname\u001b[0m\u001b[1;33m=\u001b[0m\u001b[1;34m'detail_branch'\u001b[0m\u001b[1;33m\u001b[0m\u001b[1;33m\u001b[0m\u001b[0m\n\u001b[0m\u001b[0;32m   1056\u001b[0m             )\n\u001b[0;32m   1057\u001b[0m             \u001b[1;31m# build semantic branch\u001b[0m\u001b[1;33m\u001b[0m\u001b[1;33m\u001b[0m\u001b[1;33m\u001b[0m\u001b[0m\n",
            "\u001b[1;32md:\\4학년 설계\\25년 1학기 수업자료\\4주차 - Line detection\\4주차_실습\\4주차_실습\\1_08_DL_LineDetection\\semantic_segmentation_zoo\\bisenet_v2.py\u001b[0m in \u001b[0;36mbuild_detail_branch\u001b[1;34m(self, input_tensor, name)\u001b[0m\n\u001b[0;32m    878\u001b[0m                                         \u001b[0mpadding\u001b[0m\u001b[1;33m=\u001b[0m\u001b[1;34m'SAME'\u001b[0m\u001b[1;33m,\u001b[0m\u001b[1;33m\u001b[0m\u001b[1;33m\u001b[0m\u001b[0m\n\u001b[0;32m    879\u001b[0m                                         \u001b[0muse_bias\u001b[0m\u001b[1;33m=\u001b[0m\u001b[1;32mFalse\u001b[0m\u001b[1;33m,\u001b[0m\u001b[1;33m\u001b[0m\u001b[1;33m\u001b[0m\u001b[0m\n\u001b[1;32m--> 880\u001b[1;33m                                         \u001b[0mneed_activate\u001b[0m\u001b[1;33m=\u001b[0m\u001b[1;32mTrue\u001b[0m\u001b[1;33m\u001b[0m\u001b[1;33m\u001b[0m\u001b[0m\n\u001b[0m\u001b[0;32m    881\u001b[0m                                     )\n\u001b[0;32m    882\u001b[0m         \u001b[1;32mreturn\u001b[0m \u001b[0mresult\u001b[0m\u001b[1;33m\u001b[0m\u001b[1;33m\u001b[0m\u001b[0m\n",
            "\u001b[1;32md:\\4학년 설계\\25년 1학기 수업자료\\4주차 - Line detection\\4주차_실습\\4주차_실습\\1_08_DL_LineDetection\\semantic_segmentation_zoo\\bisenet_v2.py\u001b[0m in \u001b[0;36m_conv_block\u001b[1;34m(self, input_tensor, k_size, output_channels, stride, name, padding, use_bias, need_activate)\u001b[0m\n\u001b[0;32m    829\u001b[0m                 \u001b[0mstride\u001b[0m\u001b[1;33m=\u001b[0m\u001b[0mstride\u001b[0m\u001b[1;33m,\u001b[0m\u001b[1;33m\u001b[0m\u001b[1;33m\u001b[0m\u001b[0m\n\u001b[0;32m    830\u001b[0m                 \u001b[0muse_bias\u001b[0m\u001b[1;33m=\u001b[0m\u001b[0muse_bias\u001b[0m\u001b[1;33m,\u001b[0m\u001b[1;33m\u001b[0m\u001b[1;33m\u001b[0m\u001b[0m\n\u001b[1;32m--> 831\u001b[1;33m                 \u001b[0mname\u001b[0m\u001b[1;33m=\u001b[0m\u001b[1;34m'conv'\u001b[0m\u001b[1;33m\u001b[0m\u001b[1;33m\u001b[0m\u001b[0m\n\u001b[0m\u001b[0;32m    832\u001b[0m             )\n\u001b[0;32m    833\u001b[0m             \u001b[1;32mif\u001b[0m \u001b[0mneed_activate\u001b[0m\u001b[1;33m:\u001b[0m\u001b[1;33m\u001b[0m\u001b[1;33m\u001b[0m\u001b[0m\n",
            "\u001b[1;32md:\\4학년 설계\\25년 1학기 수업자료\\4주차 - Line detection\\4주차_실습\\4주차_실습\\1_08_DL_LineDetection\\semantic_segmentation_zoo\\cnn_basenet.py\u001b[0m in \u001b[0;36mconv2d\u001b[1;34m(inputdata, out_channel, kernel_size, padding, stride, w_init, b_init, split, use_bias, data_format, name)\u001b[0m\n\u001b[0;32m     68\u001b[0m                 \u001b[0mb_init\u001b[0m \u001b[1;33m=\u001b[0m \u001b[0mtf\u001b[0m\u001b[1;33m.\u001b[0m\u001b[0mconstant_initializer\u001b[0m\u001b[1;33m(\u001b[0m\u001b[1;33m)\u001b[0m\u001b[1;33m\u001b[0m\u001b[1;33m\u001b[0m\u001b[0m\n\u001b[0;32m     69\u001b[0m \u001b[1;33m\u001b[0m\u001b[0m\n\u001b[1;32m---> 70\u001b[1;33m             \u001b[0mw\u001b[0m \u001b[1;33m=\u001b[0m \u001b[0mtf\u001b[0m\u001b[1;33m.\u001b[0m\u001b[0mget_variable\u001b[0m\u001b[1;33m(\u001b[0m\u001b[1;34m'W'\u001b[0m\u001b[1;33m,\u001b[0m \u001b[0mfilter_shape\u001b[0m\u001b[1;33m,\u001b[0m \u001b[0minitializer\u001b[0m\u001b[1;33m=\u001b[0m\u001b[0mw_init\u001b[0m\u001b[1;33m)\u001b[0m\u001b[1;33m\u001b[0m\u001b[1;33m\u001b[0m\u001b[0m\n\u001b[0m\u001b[0;32m     71\u001b[0m             \u001b[0mb\u001b[0m \u001b[1;33m=\u001b[0m \u001b[1;32mNone\u001b[0m\u001b[1;33m\u001b[0m\u001b[1;33m\u001b[0m\u001b[0m\n\u001b[0;32m     72\u001b[0m \u001b[1;33m\u001b[0m\u001b[0m\n",
            "\u001b[1;32mc:\\Users\\user\\Anaconda3\\envs\\avod_env\\lib\\site-packages\\tensorflow_core\\python\\ops\\variable_scope.py\u001b[0m in \u001b[0;36mget_variable\u001b[1;34m(name, shape, dtype, initializer, regularizer, trainable, collections, caching_device, partitioner, validate_shape, use_resource, custom_getter, constraint, synchronization, aggregation)\u001b[0m\n\u001b[0;32m   1498\u001b[0m       \u001b[0mconstraint\u001b[0m\u001b[1;33m=\u001b[0m\u001b[0mconstraint\u001b[0m\u001b[1;33m,\u001b[0m\u001b[1;33m\u001b[0m\u001b[1;33m\u001b[0m\u001b[0m\n\u001b[0;32m   1499\u001b[0m       \u001b[0msynchronization\u001b[0m\u001b[1;33m=\u001b[0m\u001b[0msynchronization\u001b[0m\u001b[1;33m,\u001b[0m\u001b[1;33m\u001b[0m\u001b[1;33m\u001b[0m\u001b[0m\n\u001b[1;32m-> 1500\u001b[1;33m       aggregation=aggregation)\n\u001b[0m\u001b[0;32m   1501\u001b[0m \u001b[1;33m\u001b[0m\u001b[0m\n\u001b[0;32m   1502\u001b[0m \u001b[1;33m\u001b[0m\u001b[0m\n",
            "\u001b[1;32mc:\\Users\\user\\Anaconda3\\envs\\avod_env\\lib\\site-packages\\tensorflow_core\\python\\ops\\variable_scope.py\u001b[0m in \u001b[0;36mget_variable\u001b[1;34m(self, var_store, name, shape, dtype, initializer, regularizer, reuse, trainable, collections, caching_device, partitioner, validate_shape, use_resource, custom_getter, constraint, synchronization, aggregation)\u001b[0m\n\u001b[0;32m   1241\u001b[0m           \u001b[0mconstraint\u001b[0m\u001b[1;33m=\u001b[0m\u001b[0mconstraint\u001b[0m\u001b[1;33m,\u001b[0m\u001b[1;33m\u001b[0m\u001b[1;33m\u001b[0m\u001b[0m\n\u001b[0;32m   1242\u001b[0m           \u001b[0msynchronization\u001b[0m\u001b[1;33m=\u001b[0m\u001b[0msynchronization\u001b[0m\u001b[1;33m,\u001b[0m\u001b[1;33m\u001b[0m\u001b[1;33m\u001b[0m\u001b[0m\n\u001b[1;32m-> 1243\u001b[1;33m           aggregation=aggregation)\n\u001b[0m\u001b[0;32m   1244\u001b[0m \u001b[1;33m\u001b[0m\u001b[0m\n\u001b[0;32m   1245\u001b[0m   def _get_partitioned_variable(self,\n",
            "\u001b[1;32mc:\\Users\\user\\Anaconda3\\envs\\avod_env\\lib\\site-packages\\tensorflow_core\\python\\ops\\variable_scope.py\u001b[0m in \u001b[0;36mget_variable\u001b[1;34m(self, name, shape, dtype, initializer, regularizer, reuse, trainable, collections, caching_device, partitioner, validate_shape, use_resource, custom_getter, constraint, synchronization, aggregation)\u001b[0m\n\u001b[0;32m    565\u001b[0m           \u001b[0mconstraint\u001b[0m\u001b[1;33m=\u001b[0m\u001b[0mconstraint\u001b[0m\u001b[1;33m,\u001b[0m\u001b[1;33m\u001b[0m\u001b[1;33m\u001b[0m\u001b[0m\n\u001b[0;32m    566\u001b[0m           \u001b[0msynchronization\u001b[0m\u001b[1;33m=\u001b[0m\u001b[0msynchronization\u001b[0m\u001b[1;33m,\u001b[0m\u001b[1;33m\u001b[0m\u001b[1;33m\u001b[0m\u001b[0m\n\u001b[1;32m--> 567\u001b[1;33m           aggregation=aggregation)\n\u001b[0m\u001b[0;32m    568\u001b[0m \u001b[1;33m\u001b[0m\u001b[0m\n\u001b[0;32m    569\u001b[0m   def _get_partitioned_variable(self,\n",
            "\u001b[1;32mc:\\Users\\user\\Anaconda3\\envs\\avod_env\\lib\\site-packages\\tensorflow_core\\python\\ops\\variable_scope.py\u001b[0m in \u001b[0;36m_true_getter\u001b[1;34m(name, shape, dtype, initializer, regularizer, reuse, trainable, collections, caching_device, partitioner, validate_shape, use_resource, constraint, synchronization, aggregation)\u001b[0m\n\u001b[0;32m    517\u001b[0m           \u001b[0mconstraint\u001b[0m\u001b[1;33m=\u001b[0m\u001b[0mconstraint\u001b[0m\u001b[1;33m,\u001b[0m\u001b[1;33m\u001b[0m\u001b[1;33m\u001b[0m\u001b[0m\n\u001b[0;32m    518\u001b[0m           \u001b[0msynchronization\u001b[0m\u001b[1;33m=\u001b[0m\u001b[0msynchronization\u001b[0m\u001b[1;33m,\u001b[0m\u001b[1;33m\u001b[0m\u001b[1;33m\u001b[0m\u001b[0m\n\u001b[1;32m--> 519\u001b[1;33m           aggregation=aggregation)\n\u001b[0m\u001b[0;32m    520\u001b[0m \u001b[1;33m\u001b[0m\u001b[0m\n\u001b[0;32m    521\u001b[0m     synchronization, aggregation, trainable = (\n",
            "\u001b[1;32mc:\\Users\\user\\Anaconda3\\envs\\avod_env\\lib\\site-packages\\tensorflow_core\\python\\ops\\variable_scope.py\u001b[0m in \u001b[0;36m_get_single_variable\u001b[1;34m(self, name, shape, dtype, initializer, regularizer, partition_info, reuse, trainable, collections, caching_device, validate_shape, use_resource, constraint, synchronization, aggregation)\u001b[0m\n\u001b[0;32m    866\u001b[0m         \u001b[0mtb\u001b[0m \u001b[1;33m=\u001b[0m \u001b[1;33m[\u001b[0m\u001b[0mx\u001b[0m \u001b[1;32mfor\u001b[0m \u001b[0mx\u001b[0m \u001b[1;32min\u001b[0m \u001b[0mtb\u001b[0m \u001b[1;32mif\u001b[0m \u001b[1;34m\"tensorflow/python\"\u001b[0m \u001b[1;32mnot\u001b[0m \u001b[1;32min\u001b[0m \u001b[0mx\u001b[0m\u001b[1;33m[\u001b[0m\u001b[1;36m0\u001b[0m\u001b[1;33m]\u001b[0m\u001b[1;33m]\u001b[0m\u001b[1;33m[\u001b[0m\u001b[1;33m:\u001b[0m\u001b[1;36m5\u001b[0m\u001b[1;33m]\u001b[0m\u001b[1;33m\u001b[0m\u001b[1;33m\u001b[0m\u001b[0m\n\u001b[0;32m    867\u001b[0m         raise ValueError(\"%s Originally defined at:\\n\\n%s\" %\n\u001b[1;32m--> 868\u001b[1;33m                          (err_msg, \"\".join(traceback.format_list(tb))))\n\u001b[0m\u001b[0;32m    869\u001b[0m       \u001b[0mfound_var\u001b[0m \u001b[1;33m=\u001b[0m \u001b[0mself\u001b[0m\u001b[1;33m.\u001b[0m\u001b[0m_vars\u001b[0m\u001b[1;33m[\u001b[0m\u001b[0mname\u001b[0m\u001b[1;33m]\u001b[0m\u001b[1;33m\u001b[0m\u001b[1;33m\u001b[0m\u001b[0m\n\u001b[0;32m    870\u001b[0m       \u001b[1;32mif\u001b[0m \u001b[1;32mnot\u001b[0m \u001b[0mshape\u001b[0m\u001b[1;33m.\u001b[0m\u001b[0mis_compatible_with\u001b[0m\u001b[1;33m(\u001b[0m\u001b[0mfound_var\u001b[0m\u001b[1;33m.\u001b[0m\u001b[0mget_shape\u001b[0m\u001b[1;33m(\u001b[0m\u001b[1;33m)\u001b[0m\u001b[1;33m)\u001b[0m\u001b[1;33m:\u001b[0m\u001b[1;33m\u001b[0m\u001b[1;33m\u001b[0m\u001b[0m\n",
            "\u001b[1;31mValueError\u001b[0m: Variable LaneNet/bisenetv2_frontend/detail_branch/stage_1/conv_block_1_repeat_1/3x3_conv/conv/W already exists, disallowed. Did you mean to set reuse=True or reuse=tf.AUTO_REUSE in VarScope? Originally defined at:\n\n  File \"c:\\Users\\user\\Anaconda3\\envs\\avod_env\\lib\\site-packages\\tensorflow_core\\python\\framework\\ops.py\", line 1748, in __init__\n    self._traceback = tf_stack.extract_stack()\n  File \"c:\\Users\\user\\Anaconda3\\envs\\avod_env\\lib\\site-packages\\tensorflow_core\\python\\framework\\ops.py\", line 3426, in _create_op_internal\n    op_def=op_def)\n  File \"c:\\Users\\user\\Anaconda3\\envs\\avod_env\\lib\\site-packages\\tensorflow_core\\python\\framework\\ops.py\", line 3357, in create_op\n    attrs, op_def, compute_device)\n  File \"c:\\Users\\user\\Anaconda3\\envs\\avod_env\\lib\\site-packages\\tensorflow_core\\python\\util\\deprecation.py\", line 507, in new_func\n    return func(*args, **kwargs)\n  File \"c:\\Users\\user\\Anaconda3\\envs\\avod_env\\lib\\site-packages\\tensorflow_core\\python\\framework\\op_def_library.py\", line 794, in _apply_op_helper\n    op_def=op_def)\n"
          ]
        }
      ],
      "source": [
        "run test_video_lanenet.py --weights_path ./model/tusimple_lanenet/tusimple_lanenet.ckpt --video_path ../0531_fps_20_short.mp4"
      ]
    }
  ],
  "metadata": {
    "accelerator": "GPU",
    "colab": {
      "collapsed_sections": [],
      "name": "DLline.ipynb",
      "provenance": []
    },
    "kernelspec": {
      "display_name": "avod_env",
      "language": "python",
      "name": "python3"
    },
    "language_info": {
      "codemirror_mode": {
        "name": "ipython",
        "version": 3
      },
      "file_extension": ".py",
      "mimetype": "text/x-python",
      "name": "python",
      "nbconvert_exporter": "python",
      "pygments_lexer": "ipython3",
      "version": "3.7.12"
    }
  },
  "nbformat": 4,
  "nbformat_minor": 0
}
