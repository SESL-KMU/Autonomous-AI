{
  "cells": [
    {
      "cell_type": "markdown",
      "metadata": {
        "id": "_MJ09naBjfA3"
      },
      "source": [
        "#<font color=blue>**딥러닝 차선 인식 실습**</font>\n",
        "\n",
        "\n",
        "각 셀을 순서대로 shift + ENTER로 실행"
      ]
    },
    {
      "cell_type": "markdown",
      "metadata": {
        "id": "raEMEsmZlEsQ"
      },
      "source": [
        "##<font color=green>**딥러닝 차선 인식 코드 경로로 이동**</font>"
      ]
    },
    {
      "cell_type": "code",
      "execution_count": null,
      "metadata": {
        "id": "PdHHDvnXtahE"
      },
      "outputs": [],
      "source": [
        "# cd /Autonomous-AI/Day1/1_08_DL_LineDetection/\n",
        "import os\n",
        "os.getcwd()"
      ]
    },
    {
      "cell_type": "markdown",
      "metadata": {
        "id": "StUthkT-lItz"
      },
      "source": [
        "## <font color=green>**딥러닝 차선인식을 적용하기위한 적절한 라이브러리 설치 진행**</font>"
      ]
    },
    {
      "cell_type": "code",
      "execution_count": null,
      "metadata": {
        "id": "HSEV1hjKrM98"
      },
      "outputs": [],
      "source": [
        "import tensorflow as tf\n",
        "tf.__version__"
      ]
    },
    {
      "cell_type": "code",
      "execution_count": null,
      "metadata": {
        "id": "2Vn2apiCrUFT"
      },
      "outputs": [],
      "source": [
        "pip uninstall -y keras-nightly tensorflow"
      ]
    },
    {
      "cell_type": "code",
      "execution_count": null,
      "metadata": {
        "id": "h-rdya9OwH6q"
      },
      "outputs": [],
      "source": [
        "pip install gast==0.3.2"
      ]
    },
    {
      "cell_type": "code",
      "execution_count": null,
      "metadata": {
        "id": "jzzeDEJlsNiD"
      },
      "outputs": [],
      "source": [
        "pip install tensorflow==1.15.0"
      ]
    },
    {
      "cell_type": "code",
      "execution_count": null,
      "metadata": {
        "id": "WPbD2b2KjWeo"
      },
      "outputs": [],
      "source": [
        "pip install -r requirements.txt"
      ]
    },
    {
      "cell_type": "code",
      "execution_count": null,
      "metadata": {},
      "outputs": [],
      "source": [
        "pip install protobuf==3.20.3"
      ]
    },
    {
      "cell_type": "code",
      "execution_count": null,
      "metadata": {},
      "outputs": [],
      "source": [
        "pip install opencv-python"
      ]
    },
    {
      "cell_type": "code",
      "execution_count": null,
      "metadata": {
        "id": "VEQU0VCYsBZw"
      },
      "outputs": [],
      "source": [
        "import tensorflow as tf\n",
        "tf.__version__"
      ]
    },
    {
      "cell_type": "markdown",
      "metadata": {
        "id": "BTnISmRTlXE9"
      },
      "source": [
        "## <font color=green>**딥러닝 차선 인식 실습 진행**</font>"
      ]
    },
    {
      "cell_type": "code",
      "execution_count": null,
      "metadata": {
        "id": "MToJCByfuRe8"
      },
      "outputs": [],
      "source": [
        "run test_video_lanenet.py --weights_path ./model/tusimple_lanenet/tusimple_lanenet.ckpt --video_path ../0531_fps_20_short.mp4"
      ]
    },
    {
      "cell_type": "code",
      "execution_count": null,
      "metadata": {},
      "outputs": [],
      "source": [
        "run test_video_lanenet.py --weights_path ./model/tusimple_lanenet/tusimple_lanenet.ckpt --video_path ../final_curve_test.mp4"
      ]
    }
  ],
  "metadata": {
    "accelerator": "GPU",
    "colab": {
      "collapsed_sections": [],
      "name": "DLline.ipynb",
      "provenance": []
    },
    "kernelspec": {
      "display_name": "Python 3",
      "language": "python",
      "name": "python3"
    },
    "language_info": {
      "codemirror_mode": {
        "name": "ipython",
        "version": 3
      },
      "file_extension": ".py",
      "mimetype": "text/x-python",
      "name": "python",
      "nbconvert_exporter": "python",
      "pygments_lexer": "ipython3",
      "version": "3.7.7"
    }
  },
  "nbformat": 4,
  "nbformat_minor": 0
}
